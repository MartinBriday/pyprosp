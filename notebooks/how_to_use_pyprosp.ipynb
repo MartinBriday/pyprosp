{
 "cells": [
  {
   "cell_type": "code",
   "execution_count": 1,
   "metadata": {},
   "outputs": [],
   "source": [
    "%matplotlib notebook\n",
    "import numpy as np\n",
    "import pandas\n",
    "import matplotlib.pyplot as plt\n",
    "import os"
   ]
  },
  {
   "cell_type": "markdown",
   "metadata": {},
   "source": [
    "Let's import the SED fitting code which use prospector package."
   ]
  },
  {
   "cell_type": "code",
   "execution_count": 2,
   "metadata": {},
   "outputs": [],
   "source": [
    "from pyprosp import prospector"
   ]
  },
  {
   "cell_type": "markdown",
   "metadata": {},
   "source": [
    "# Data"
   ]
  },
  {
   "cell_type": "markdown",
   "metadata": {},
   "source": [
    "For this tutorial, we will fit the SED based on some photometric measurements.<br>\n",
    "What's important with input data is the names you give:\n",
    "\n",
    "- measurements must be on the format \"instrument.band\" (e.g. sdss.u, ps1.g, ...)\n",
    "- uncertainties must be on the format \"instrument.band.err\" (e.g. sdss.u.err, ps1.g.err, ...)\n",
    "\n",
    "The measurement uncertainties are necessary for the code to automatically recognize the filters used.<br>\n",
    "Here we set a pandas.Series with data, as it could come from a DataFrame in a loop, but it also works with a dictionary.\n",
    "\n",
    "These data are coming from \"Johnson et al. 2013\", the studied galaxy is \"NGC4163\", measured in maggies."
   ]
  },
  {
   "cell_type": "code",
   "execution_count": 3,
   "metadata": {},
   "outputs": [
    {
     "data": {
      "text/plain": [
       "SN_name              NGC4163\n",
       "zcmb                0.000551\n",
       "GALEX.FUV        5.91562e-08\n",
       "GALEX.FUV.err    5.91562e-09\n",
       "GALEX.NUV        8.87156e-08\n",
       "GALEX.NUV.err    8.87156e-09\n",
       "sdss.u           2.22844e-07\n",
       "sdss.u.err       2.22844e-08\n",
       "sdss.g           4.87528e-07\n",
       "sdss.g.err       4.87528e-08\n",
       "sdss.r           6.98232e-07\n",
       "sdss.r.err       6.98232e-08\n",
       "sdss.i           8.79023e-07\n",
       "sdss.i.err       8.79023e-08\n",
       "sdss.z           9.46237e-07\n",
       "sdss.z.err       9.46237e-08\n",
       "Spitzer.1        4.32514e-07\n",
       "Spitzer.1.err    4.32514e-08\n",
       "Spitzer.2        2.80543e-07\n",
       "Spitzer.2.err    2.80543e-08\n",
       "Spitzer.3        1.95884e-07\n",
       "Spitzer.3.err    1.95884e-08\n",
       "Spitzer.4         1.2942e-07\n",
       "Spitzer.4.err     1.2942e-08\n",
       "dtype: object"
      ]
     },
     "execution_count": 3,
     "metadata": {},
     "output_type": "execute_result"
    }
   ],
   "source": [
    "data = {\"SN_name\":\"NGC4163\",\n",
    "        \"zcmb\":0.000551,\n",
    "        \"GALEX.FUV\":5.91561634e-08, \n",
    "        \"GALEX.FUV.err\":5.91561634e-09, \n",
    "        \"GALEX.NUV\":8.87156012e-08, \n",
    "        \"GALEX.NUV.err\":8.87156012e-09, \n",
    "        \"sdss.u\":2.22843515e-07,\n",
    "        \"sdss.u.err\":2.22843515e-08,\n",
    "        \"sdss.g\":4.87528490e-07,\n",
    "        \"sdss.g.err\":4.87528490e-08,\n",
    "        \"sdss.r\":6.98232404e-07,\n",
    "        \"sdss.r.err\":6.98232404e-08,\n",
    "        \"sdss.i\":8.79022517e-07,\n",
    "        \"sdss.i.err\":8.79022517e-08,\n",
    "        \"sdss.z\":9.46237161e-07,\n",
    "        \"sdss.z.err\":9.46237161e-08, \n",
    "        \"Spitzer.1\":4.32513831e-07, \n",
    "        \"Spitzer.1.err\":4.32513831e-08, \n",
    "        \"Spitzer.2\":2.80543364e-07, \n",
    "        \"Spitzer.2.err\":2.80543364e-08, \n",
    "        \"Spitzer.3\":1.95884467e-07, \n",
    "        \"Spitzer.3.err\":1.95884467e-08, \n",
    "        \"Spitzer.4\":1.29419584e-07, \n",
    "        \"Spitzer.4.err\":1.29419584e-08, \n",
    "        }\n",
    "\n",
    "data = pandas.Series(data)\n",
    "data"
   ]
  },
  {
   "cell_type": "markdown",
   "metadata": {},
   "source": [
    "# Prospector SED fitting"
   ]
  },
  {
   "cell_type": "markdown",
   "metadata": {},
   "source": [
    "### Initialization"
   ]
  },
  {
   "cell_type": "markdown",
   "metadata": {},
   "source": [
    "Now that we have data to work with, let's build a prospector object."
   ]
  },
  {
   "cell_type": "code",
   "execution_count": 5,
   "metadata": {},
   "outputs": [],
   "source": [
    "prosp = prospector.Prospector()"
   ]
  },
  {
   "cell_type": "markdown",
   "metadata": {},
   "source": [
    "Prospector can work either with measured photometry or spectrum (or with both).<br>\n",
    "Here we give the data we constructed above (`phot=data`). Note that no matter there are some additional informations in these data, the code ignore them, only photometry is managed (with the constraints on name format highlighted above).<br>\n",
    "We let `spec` to None (`spec=None`, default value).\n",
    "We inform the code of the measurement unit (`unit=\"mgy\"`). Note that there are other available units treated by the code:\n",
    "- \"Hz\": erg/s/cm2/Hz\n",
    "- \"AA\": erg/s/cm2/AA\n",
    "- \"mgy\": maggies\n",
    "- \"Jy\": Jansky\n",
    "- \"mag\": magnitudes\n",
    "\n",
    "This unit defines the your measurements in general, whether you give photometry or spectrometry. However if you give both, you cannot define a different unit for each one. They must be in the same unit.\n",
    "\n",
    "The builder also accept a redshift value to fix it in the SED fitting. If `z` is set to None, the redshift becomes a free parameter for the fit.<br>\n",
    "Finally, you can optionally give an object name."
   ]
  },
  {
   "cell_type": "code",
   "execution_count": 9,
   "metadata": {},
   "outputs": [],
   "source": [
    "prosp.set_data(phot=data, spec=None, unit=\"mgy\", z=data.zcmb, name=data.SN_name)\n",
    "\n",
    "# Can be executed directly in the builder:\n",
    "# prosp = prospector.Prospector(phot=data, spec=None, unit=\"mgy\", z=data.zcmb, name=data.SN_name)"
   ]
  },
  {
   "cell_type": "markdown",
   "metadata": {},
   "source": [
    "Prospector needs now three specific objects to be built: \n",
    "- the `obs` containing every measurements\n",
    "- the `model` synthesizing the parameters defining the SED model. The free paramters of the model will be fitted during SED fitting.\n",
    "- the `sps` refering to the Stellar Population Synthesis, calling FSPS procedures.\n",
    "\n",
    "It doesn't matter in which order you build `obs` and `model`, but `sps` has to be built after the `model` (because it depends on the paramters implemented in the `model`)."
   ]
  },
  {
   "cell_type": "markdown",
   "metadata": {},
   "source": [
    "### Build `obs`"
   ]
  },
  {
   "cell_type": "markdown",
   "metadata": {},
   "source": [
    "Firstly, let's build the `obs` object, which basically is a dictionary formatted to be used in prospector.\n",
    "\n",
    "In this example, we are working with photometry. We may want to avoid some filter measurements during the SED fitting. This can be done by giving a list of filters to be used for the fit to `phot_mask` argument (there is an example in next cell in comment). Filters must be on the format \"instrument.band\" (e.g. sdss.u, ps1.g, ...).\n",
    "\n",
    "A few options allow to print some user messages:\n",
    "- `verbose`: print the built `obs` dictionary (default is False)\n",
    "- `warning`: print warning messages if there's any, noticing some anomalies but without breaking the code\n",
    "\n",
    "In addition of this example, if you are working on spectroscopy, you can also apply a mask on the measured spectrum by giving limits to `spec_mask` argument in Angstroms (a few examples below).\n",
    "\n",
    "Finally, if you already have an `obs` prospector compatible dictionary, you can give it in `obs` argument. In this case, `set_data` allow you to choose if you want to save the data from this dictionary in your instance's attributes."
   ]
  },
  {
   "cell_type": "code",
   "execution_count": 8,
   "metadata": {},
   "outputs": [
    {
     "name": "stdout",
     "output_type": "stream",
     "text": [
      "\n",
      "#===============#\n",
      "#   Built obs   #\n",
      "#===============#\n",
      "\n",
      "{'filternames': ['galex_FUV',\n",
      "                 'galex_NUV',\n",
      "                 'sdss_u0',\n",
      "                 'sdss_g0',\n",
      "                 'sdss_r0',\n",
      "                 'sdss_i0',\n",
      "                 'sdss_z0',\n",
      "                 'spitzer_irac_ch1',\n",
      "                 'spitzer_irac_ch2',\n",
      "                 'spitzer_irac_ch3',\n",
      "                 'spitzer_irac_ch4'],\n",
      " 'filters': [<class 'sedpy.observate.Filter'>(galex_FUV),\n",
      "             <class 'sedpy.observate.Filter'>(galex_NUV),\n",
      "             <class 'sedpy.observate.Filter'>(sdss_u0),\n",
      "             <class 'sedpy.observate.Filter'>(sdss_g0),\n",
      "             <class 'sedpy.observate.Filter'>(sdss_r0),\n",
      "             <class 'sedpy.observate.Filter'>(sdss_i0),\n",
      "             <class 'sedpy.observate.Filter'>(sdss_z0),\n",
      "             <class 'sedpy.observate.Filter'>(spitzer_irac_ch1),\n",
      "             <class 'sedpy.observate.Filter'>(spitzer_irac_ch2),\n",
      "             <class 'sedpy.observate.Filter'>(spitzer_irac_ch3),\n",
      "             <class 'sedpy.observate.Filter'>(spitzer_irac_ch4)],\n",
      " 'logify_spectrum': False,\n",
      " 'maggies': array([5.91561634e-08, 8.87156012e-08, 2.22843515e-07, 4.87528490e-07,\n",
      "       6.98232404e-07, 8.79022517e-07, 9.46237161e-07, 4.32513831e-07,\n",
      "       2.80543364e-07, 1.95884467e-07, 1.29419584e-07]),\n",
      " 'maggies_unc': array([5.91561634e-09, 8.87156012e-09, 2.22843515e-08, 4.87528490e-08,\n",
      "       6.98232404e-08, 8.79022517e-08, 9.46237161e-08, 4.32513831e-08,\n",
      "       2.80543364e-08, 1.95884467e-08, 1.29419584e-08]),\n",
      " 'name': 'NGC4163',\n",
      " 'ndof': 11,\n",
      " 'phot_mask': array([ True,  True,  True,  True,  True,  True,  True,  True,  True,\n",
      "        True,  True]),\n",
      " 'spectrum': None,\n",
      " 'unc': None,\n",
      " 'wavelength': None,\n",
      " 'zspec': 0.000551}\n"
     ]
    }
   ],
   "source": [
    "# Example of photometric mask:\n",
    "# phot_mask = [\"sdss.u\", \"sdss.g\", \"sdss.r\", \"sdss.i\", \"sdss.z\"]\n",
    "\n",
    "# Examples of spectroscopic masks:\n",
    "# spec_mask = None ; (None, None) ; (1000, None) ; (1e3, 1e5) ; ...\n",
    "\n",
    "prosp.build_obs(phot_mask=None, verbose=True, warnings=True)#, spec_mask=(None, None), obs=None, set_data=False)"
   ]
  },
  {
   "cell_type": "markdown",
   "metadata": {},
   "source": [
    "### Build 'model'"
   ]
  },
  {
   "cell_type": "markdown",
   "metadata": {},
   "source": [
    "This is the trickiest step of the initialization as there are a lot of possibilities highly impacting the SED fitting.\n"
   ]
  },
  {
   "cell_type": "code",
   "execution_count": null,
   "metadata": {},
   "outputs": [],
   "source": [
    "model_tuto = {\"mass_tuto\":{\"N\": 1,\n",
    "                           \"isfree\": True,\n",
    "                           \"init\": 1e8,\n",
    "                           \"prior\": dict(name=\"LogUniform\", mini=1e6, maxi=1e12),\n",
    "                           \"init_disp\": 1e6, \n",
    "                           \"disp_floor\": 1e6, \n",
    "                           \"units\": \"solar masses formed\"}}"
   ]
  },
  {
   "cell_type": "code",
   "execution_count": null,
   "metadata": {},
   "outputs": [],
   "source": [
    "prosp.build_model(model=model_tuto, templates=[\"parametric_sfh\", \"dust_emission\"], verbose=True, describe=True)"
   ]
  },
  {
   "cell_type": "code",
   "execution_count": null,
   "metadata": {},
   "outputs": [],
   "source": []
  },
  {
   "cell_type": "code",
   "execution_count": null,
   "metadata": {},
   "outputs": [],
   "source": []
  },
  {
   "cell_type": "code",
   "execution_count": null,
   "metadata": {},
   "outputs": [],
   "source": []
  },
  {
   "cell_type": "code",
   "execution_count": null,
   "metadata": {},
   "outputs": [],
   "source": []
  },
  {
   "cell_type": "code",
   "execution_count": null,
   "metadata": {},
   "outputs": [],
   "source": []
  },
  {
   "cell_type": "code",
   "execution_count": null,
   "metadata": {},
   "outputs": [],
   "source": []
  }
 ],
 "metadata": {
  "kernelspec": {
   "display_name": "Python 3",
   "language": "python",
   "name": "python3"
  },
  "language_info": {
   "codemirror_mode": {
    "name": "ipython",
    "version": 3
   },
   "file_extension": ".py",
   "mimetype": "text/x-python",
   "name": "python",
   "nbconvert_exporter": "python",
   "pygments_lexer": "ipython3",
   "version": "3.7.9"
  }
 },
 "nbformat": 4,
 "nbformat_minor": 4
}
