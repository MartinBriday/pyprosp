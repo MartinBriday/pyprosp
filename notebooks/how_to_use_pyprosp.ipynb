{
 "cells": [
  {
   "cell_type": "code",
   "execution_count": 1,
   "metadata": {},
   "outputs": [],
   "source": [
    "%matplotlib notebook\n",
    "import numpy as np\n",
    "import pandas\n",
    "import matplotlib.pyplot as plt\n",
    "import os\n",
    "from pprint import pprint"
   ]
  },
  {
   "cell_type": "markdown",
   "metadata": {},
   "source": [
    "Let's import the SED fitting code which use `prospector` package."
   ]
  },
  {
   "cell_type": "code",
   "execution_count": 2,
   "metadata": {},
   "outputs": [],
   "source": [
    "from pyprosp import prospector"
   ]
  },
  {
   "cell_type": "markdown",
   "metadata": {},
   "source": [
    "# Data"
   ]
  },
  {
   "cell_type": "markdown",
   "metadata": {},
   "source": [
    "For this tutorial, we will fit the SED based on some photometric measurements.<br>\n",
    "What's important with input data is the names you give:\n",
    "\n",
    "- measurements must be on the format \"instrument.band\" (e.g. sdss.u, ps1.g, ...)\n",
    "- uncertainties must be on the format \"instrument.band.err\" (e.g. sdss.u.err, ps1.g.err, ...)\n",
    "\n",
    "The measurement uncertainties are necessary for the code to automatically recognize the filters used.<br>\n",
    "Here we set a `pandas.Series` with data, as it could come from a `pandas.DataFrame` in a loop, but it also works with a dictionary.\n",
    "\n",
    "These data are coming from \"Johnson et al. 2013\", the studied galaxy is \"NGC4163\", measured in maggies."
   ]
  },
  {
   "cell_type": "code",
   "execution_count": 3,
   "metadata": {},
   "outputs": [
    {
     "data": {
      "text/plain": [
       "SN_name                   NGC4163\n",
       "zcmb                     0.000551\n",
       "GALEX.FUV             5.91562e-08\n",
       "GALEX.FUV.err         5.91562e-09\n",
       "GALEX.NUV             8.87156e-08\n",
       "GALEX.NUV.err         8.87156e-09\n",
       "sdss.u                2.22844e-07\n",
       "sdss.u.err            2.22844e-08\n",
       "sdss.g                4.87528e-07\n",
       "sdss.g.err            4.87528e-08\n",
       "sdss.r                6.98232e-07\n",
       "sdss.r.err            6.98232e-08\n",
       "sdss.i                8.79023e-07\n",
       "sdss.i.err            8.79023e-08\n",
       "sdss.z                9.46237e-07\n",
       "sdss.z.err            9.46237e-08\n",
       "Spitzer.irac_1        4.32514e-07\n",
       "Spitzer.irac_1.err    4.32514e-08\n",
       "Spitzer.irac_2        2.80543e-07\n",
       "Spitzer.irac_2.err    2.80543e-08\n",
       "Spitzer.irac_3        1.95884e-07\n",
       "Spitzer.irac_3.err    1.95884e-08\n",
       "Spitzer.irac_4         1.2942e-07\n",
       "Spitzer.irac_4.err     1.2942e-08\n",
       "dtype: object"
      ]
     },
     "execution_count": 3,
     "metadata": {},
     "output_type": "execute_result"
    }
   ],
   "source": [
    "data = {\"SN_name\":\"NGC4163\",\n",
    "        \"zcmb\":0.000551,\n",
    "        \"GALEX.FUV\":5.91561634e-08, \n",
    "        \"GALEX.FUV.err\":5.91561634e-09, \n",
    "        \"GALEX.NUV\":8.87156012e-08, \n",
    "        \"GALEX.NUV.err\":8.87156012e-09, \n",
    "        \"sdss.u\":2.22843515e-07,\n",
    "        \"sdss.u.err\":2.22843515e-08,\n",
    "        \"sdss.g\":4.87528490e-07,\n",
    "        \"sdss.g.err\":4.87528490e-08,\n",
    "        \"sdss.r\":6.98232404e-07,\n",
    "        \"sdss.r.err\":6.98232404e-08,\n",
    "        \"sdss.i\":8.79022517e-07,\n",
    "        \"sdss.i.err\":8.79022517e-08,\n",
    "        \"sdss.z\":9.46237161e-07,\n",
    "        \"sdss.z.err\":9.46237161e-08, \n",
    "        \"Spitzer.irac_1\":4.32513831e-07, \n",
    "        \"Spitzer.irac_1.err\":4.32513831e-08, \n",
    "        \"Spitzer.irac_2\":2.80543364e-07, \n",
    "        \"Spitzer.irac_2.err\":2.80543364e-08, \n",
    "        \"Spitzer.irac_3\":1.95884467e-07, \n",
    "        \"Spitzer.irac_3.err\":1.95884467e-08, \n",
    "        \"Spitzer.irac_4\":1.29419584e-07, \n",
    "        \"Spitzer.irac_4.err\":1.29419584e-08, \n",
    "        }\n",
    "\n",
    "data = pandas.Series(data)\n",
    "data"
   ]
  },
  {
   "cell_type": "markdown",
   "metadata": {},
   "source": [
    "# Prospector SED fitting"
   ]
  },
  {
   "cell_type": "markdown",
   "metadata": {},
   "source": [
    "## Initialization"
   ]
  },
  {
   "cell_type": "markdown",
   "metadata": {},
   "source": [
    "Now that we have data to work with, let's build a `prospector` object."
   ]
  },
  {
   "cell_type": "code",
   "execution_count": 4,
   "metadata": {},
   "outputs": [],
   "source": [
    "prosp = prospector.Prospector()"
   ]
  },
  {
   "cell_type": "markdown",
   "metadata": {},
   "source": [
    "Prospector can work either with measured photometry or spectrum (or with both).<br>\n",
    "Here we give the data we constructed above (`phot=data`). Note that no matter there are some additional informations in these data, the code ignore them, only photometry is managed (with the constraints on name format highlighted above).<br>\n",
    "We let `spec` to None (`spec=None`, default value).\n",
    "We inform the code of the measurement unit (`unit=\"mgy\"`). Note that there are other available units treated by the code:\n",
    "- \"Hz\": erg/s/cm2/Hz\n",
    "- \"AA\": erg/s/cm2/AA\n",
    "- \"mgy\": maggies\n",
    "- \"Jy\": Jansky\n",
    "- \"mag\": magnitudes\n",
    "\n",
    "This unit defines the your measurements in general, whether you give photometry or spectrometry. However if you give both, you cannot define a different unit for each one. They must be in the same unit.\n",
    "\n",
    "The builder also accept a redshift value to fix it in the SED fitting. If `z` is set to None, the redshift becomes a free parameter for the fit.<br>\n",
    "Finally, you can optionally give an object name."
   ]
  },
  {
   "cell_type": "code",
   "execution_count": 5,
   "metadata": {},
   "outputs": [],
   "source": [
    "prosp.set_data(phot=data, spec=None, unit=\"mgy\", z=data.zcmb, name=data.SN_name)\n",
    "\n",
    "# Can be executed directly in the builder:\n",
    "# prosp = prospector.Prospector(phot=data, spec=None, unit=\"mgy\", z=data.zcmb, name=data.SN_name)"
   ]
  },
  {
   "cell_type": "markdown",
   "metadata": {},
   "source": [
    "`prospector` needs now three specific objects to be built: \n",
    "- the `obs` containing every measurements\n",
    "- the `model` synthesizing the parameters defining the SED model. The free paramters of the model will be fitted during SED fitting.\n",
    "- the `sps` refering to the Stellar Population Synthesis, calling FSPS procedures.\n",
    "\n",
    "It doesn't matter in which order you build `obs` and `model`, but `sps` has to be built after the `model` (because it depends on the paramters implemented in the `model`)."
   ]
  },
  {
   "cell_type": "markdown",
   "metadata": {},
   "source": [
    "### Build `obs`"
   ]
  },
  {
   "cell_type": "markdown",
   "metadata": {},
   "source": [
    "Firstly, let's build the `obs` object, which basically is a dictionary formatted to be used in `prospector`.\n",
    "\n",
    "In this example, we are working with photometry. We may want to avoid some filter measurements during the SED fitting. This can be done by giving a list of filters to be used for the fit to `phot_mask` argument (there is an example in next cell in comment). Filters must be on the format \"instrument.band\" (e.g. sdss.u, ps1.g, ...).\n",
    "\n",
    "A few options allow to print some user messages:\n",
    "- `verbose`: print the built `obs` dictionary (default is False)\n",
    "- `warning`: print warning messages if there's any, noticing some anomalies but without breaking the code\n",
    "\n",
    "In addition of this example, if you are working on spectroscopy, you can also apply a mask on the measured spectrum by giving limits to `spec_mask` argument in Angstroms (a few examples below).\n",
    "\n",
    "Finally, if you already have an `obs` prospector compatible dictionary, you can give it in `obs` argument. In this case, `set_data` allow you to choose if you want to save the data from this dictionary in your instance's attributes."
   ]
  },
  {
   "cell_type": "code",
   "execution_count": 6,
   "metadata": {},
   "outputs": [
    {
     "name": "stdout",
     "output_type": "stream",
     "text": [
      "\n",
      "#===============#\n",
      "#   Built obs   #\n",
      "#===============#\n",
      "\n",
      "{'filternames': ['galex_FUV',\n",
      "                 'galex_NUV',\n",
      "                 'sdss_u0',\n",
      "                 'sdss_g0',\n",
      "                 'sdss_r0',\n",
      "                 'sdss_i0',\n",
      "                 'sdss_z0',\n",
      "                 'spitzer_irac_ch1',\n",
      "                 'spitzer_irac_ch2',\n",
      "                 'spitzer_irac_ch3',\n",
      "                 'spitzer_irac_ch4'],\n",
      " 'filters': [<class 'sedpy.observate.Filter'>(galex_FUV),\n",
      "             <class 'sedpy.observate.Filter'>(galex_NUV),\n",
      "             <class 'sedpy.observate.Filter'>(sdss_u0),\n",
      "             <class 'sedpy.observate.Filter'>(sdss_g0),\n",
      "             <class 'sedpy.observate.Filter'>(sdss_r0),\n",
      "             <class 'sedpy.observate.Filter'>(sdss_i0),\n",
      "             <class 'sedpy.observate.Filter'>(sdss_z0),\n",
      "             <class 'sedpy.observate.Filter'>(spitzer_irac_ch1),\n",
      "             <class 'sedpy.observate.Filter'>(spitzer_irac_ch2),\n",
      "             <class 'sedpy.observate.Filter'>(spitzer_irac_ch3),\n",
      "             <class 'sedpy.observate.Filter'>(spitzer_irac_ch4)],\n",
      " 'logify_spectrum': False,\n",
      " 'maggies': array([5.91561634e-08, 8.87156012e-08, 2.22843515e-07, 4.87528490e-07,\n",
      "       6.98232404e-07, 8.79022517e-07, 9.46237161e-07, 4.32513831e-07,\n",
      "       2.80543364e-07, 1.95884467e-07, 1.29419584e-07]),\n",
      " 'maggies_unc': array([5.91561634e-09, 8.87156012e-09, 2.22843515e-08, 4.87528490e-08,\n",
      "       6.98232404e-08, 8.79022517e-08, 9.46237161e-08, 4.32513831e-08,\n",
      "       2.80543364e-08, 1.95884467e-08, 1.29419584e-08]),\n",
      " 'name': 'NGC4163',\n",
      " 'ndof': 11,\n",
      " 'phot_mask': array([ True,  True,  True,  True,  True,  True,  True,  True,  True,\n",
      "        True,  True]),\n",
      " 'spectrum': None,\n",
      " 'unc': None,\n",
      " 'wavelength': None,\n",
      " 'zspec': 0.000551}\n"
     ]
    }
   ],
   "source": [
    "# Example of photometric mask (running SED fitting only on SDSS filters):\n",
    "# phot_mask = [\"sdss.u\", \"sdss.g\", \"sdss.r\", \"sdss.i\", \"sdss.z\"]\n",
    "\n",
    "# Examples of spectroscopic masks:\n",
    "# spec_mask = None ; (None, None) ; (1000, None) ; (1e3, 1e5) ; ...\n",
    "\n",
    "prosp.build_obs(phot_mask=None, verbose=True, warnings=True)#, spec_mask=(None, None), obs=None, set_data=False)"
   ]
  },
  {
   "cell_type": "markdown",
   "metadata": {},
   "source": [
    "### Build `model`"
   ]
  },
  {
   "cell_type": "markdown",
   "metadata": {},
   "source": [
    "This is the trickiest part of the initialization as there are a lot of possibilities highly impacting the SED fitting.\n",
    "\n",
    "The `model` stores every paramters defining the model which will fit the data.<br>\n",
    "Before any treatment, the input parameters are dictionaries including some specific keys:\n",
    "- `name`: the parameter's name\n",
    "- `N`: parameter's length (vector parameters are possible)\n",
    "- `init`: the initial value\n",
    "- `isfree`: a boolean defining the parameter to free (for SED fitting) or fixed to the `init` value\n",
    "\n",
    "If the parameter is free (`isfree=True`), you finally need to define:\n",
    "- `prior`: the prior probability to apply to the parameter during SED fitting\n",
    "\n",
    "There are a few other optionnal parameters, like:\n",
    "- `units`: unit of the parameter\n",
    "- `init_disp`: the initial dispersion to use when generating clouds of emcee \"walkers\"\n",
    "- `disp_floor`: the minimum dispersion to use when generating clouds of emcee \"walkers\".\n",
    "\n",
    "\n",
    "Here is an example (creating a model with only a \"stellar mass\" like parameter):"
   ]
  },
  {
   "cell_type": "code",
   "execution_count": 7,
   "metadata": {},
   "outputs": [],
   "source": [
    "model_tuto = {\"mass_tuto\":{\"N\": 1,\n",
    "                           \"isfree\": True,\n",
    "                           \"init\": 1e8,\n",
    "                           \"prior\": dict(name=\"LogUniform\", mini=1e6, maxi=1e12),\n",
    "                           \"init_disp\": 1e6, \n",
    "                           \"disp_floor\": 1e6, \n",
    "                           \"units\": \"solar masses formed\"}, \n",
    "              # ... : {...}, \n",
    "              }\n",
    "\n",
    "# Could also be: \n",
    "# model_tuto = [{\"name\":\"mass_tuto\", \n",
    "#                \"N\": 1,\n",
    "#                \"isfree\": True,\n",
    "#                \"init\": 1e8,\n",
    "#                \"prior\": dict(name=\"LogUniform\", mini=1e6, maxi=1e12),\n",
    "#                \"init_disp\": 1e6, \n",
    "#                \"disp_floor\": 1e6, \n",
    "#                \"units\": \"solar masses formed\"}, \n",
    "#               {...}, \n",
    "#              ]"
   ]
  },
  {
   "cell_type": "markdown",
   "metadata": {},
   "source": [
    "About priors, the code will automatically build an appropriate prior instance based on a dictionary containing every needed arguments.\n",
    "\n",
    "In the parameter `mass_tuto`, `prior = dict(name=\"LogUniform\", mini=1e6, maxi=1e12)`. You can get more informations from this stuff with:"
   ]
  },
  {
   "cell_type": "code",
   "execution_count": 8,
   "metadata": {},
   "outputs": [
    {
     "name": "stdout",
     "output_type": "stream",
     "text": [
      "\n",
      "#========================#\n",
      "#   Prior descriptions   #\n",
      "#========================#\n",
      "\n",
      "Available priors: TopHat, Normal, ClippedNormal, LogNormal, LogUniform, Beta, StudentT, SkewNormal.\n",
      "\n",
      "(Required arguments must be included in addition with the 'name' argument in a dictionary to correctly build the prior, \n",
      " for example, try to describe 'priors={'name':'Normal', 'mean':0., 'sigma':1.}').\n",
      "\n",
      "\n",
      "+----------------+\n",
      "|   LogUniform   |\n",
      "+----------------+\n",
      "\n",
      "Like log-normal, but the distribution of natural log of the variable is\n",
      "    distributed uniformly instead of normally.\n",
      "\n",
      "    - mini: (your input is: 1000000.0)\n",
      "        Minimum of the distribution\n",
      "\n",
      "    - maxi: (your input is: 1000000000000.0)\n",
      "        Maximum of the distribution\n",
      "    \n"
     ]
    }
   ],
   "source": [
    "# prosp.describe_priors(\"LogUniform\")\n",
    "prosp.describe_priors(dict(name=\"LogUniform\", mini=1e6, maxi=1e12))\n",
    "\n",
    "# If you want to print every avalaible prior informations, run: \n",
    "# prosp.describe_priors(\"*\")"
   ]
  },
  {
   "cell_type": "markdown",
   "metadata": {},
   "source": [
    "However, instead of building a model from scratch by hand, `prospector` propose a set of pre-packaged parameter sets.\n",
    "\n",
    "You can have a look at them with:"
   ]
  },
  {
   "cell_type": "code",
   "execution_count": 9,
   "metadata": {},
   "outputs": [
    {
     "name": "stdout",
     "output_type": "stream",
     "text": [
      "\n",
      "#=========================#\n",
      "#   Availbale templates   #\n",
      "#=========================#\n",
      "\n",
      "'type_defaults':\n",
      "  Explicitly sets dust amd IMF types.\n",
      "'ssp':\n",
      "  Basic set of (free) parameters for a delta function SFH\n",
      "'parametric_sfh':\n",
      "  Basic set of (free) parameters for a delay-tau SFH.\n",
      "'dust_emission':\n",
      "  The set of (fixed) dust emission parameters.\n",
      "'nebular':\n",
      "  The set of nebular emission parameters, with gas_logz tied to stellar logzsol.\n",
      "'nebular_marginalization':\n",
      "  Marginalize over emission amplitudes line contained inthe observed spectrum\n",
      "'fit_eline_redshift':\n",
      "  Fit for the redshift of the emission lines separatelyfrom the stellar redshift\n",
      "'outlier_model':\n",
      "  The set of outlier (mixture) models for spectroscopy and photometry\n",
      "'agn':\n",
      "  The set of (fixed) AGN dusty torus emission parameters.\n",
      "'igm':\n",
      "  The set of (fixed) IGM absorption parameters.\n",
      "'spectral_smoothing':\n",
      "  Set of parameters for spectal smoothing.\n",
      "'optimize_speccal':\n",
      "  Set of parameters (most of which are fixed) for optimizing a polynomial calibration vector.\n",
      "'fit_speccal':\n",
      "  Set of parameters (most of which are free) for sampling the coefficients of a polynomial calibration vector.\n",
      "'burst_sfh':\n",
      "  The set of (fixed) parameters for an SF burst added to a parameteric SFH, with the burst time controlled by `fage_burst`.\n",
      "'logm_sfh':\n",
      "  Non-parameteric SFH fitting for log-mass in fixed time bins\n",
      "'continuity_sfh':\n",
      "  Non-parameteric SFH fitting for mass in fixed time bins with a smoothness prior\n",
      "'continuity_flex_sfh':\n",
      "  Non-parameteric SFH fitting for mass in flexible time bins with a smoothness prior\n",
      "'dirichlet_sfh':\n",
      "  Non-parameteric SFH with Dirichlet prior (fractional SFR)\n",
      "'alpha':\n",
      "  The prospector-alpha model, Leja et al. 2017\n",
      "\n",
      "\n",
      "\n",
      "#===========================#\n",
      "#   Template descriptions   #\n",
      "#===========================#\n",
      "\n",
      "+--------------------+\n",
      "|   parametric_sfh   |\n",
      "+--------------------+\n",
      "Free Parameters: (name: prior) \n",
      "-----------\n",
      "  mass: <class 'prospect.models.priors.LogUniform'>(mini=100000000.0,maxi=1000000000000.0)\n",
      "  logzsol: <class 'prospect.models.priors.TopHat'>(mini=-2,maxi=0.19)\n",
      "  dust2: <class 'prospect.models.priors.TopHat'>(mini=0.0,maxi=2.0)\n",
      "  tage: <class 'prospect.models.priors.TopHat'>(mini=0.001,maxi=13.8)\n",
      "  tau: <class 'prospect.models.priors.LogUniform'>(mini=0.1,maxi=30)\n",
      "\n",
      "Fixed Parameters: (name: value [, depends_on]) \n",
      "-----------\n",
      "  zred: 0.1 \n",
      "  sfh: 4 \n",
      "  imf_type: 2 \n",
      "  dust_type: 0 \n",
      "\n",
      "\n",
      "+-------------------+\n",
      "|   dust_emission   |\n",
      "+-------------------+\n",
      "Free Parameters: (name: prior) \n",
      "-----------\n",
      "  \n",
      "\n",
      "Fixed Parameters: (name: value [, depends_on]) \n",
      "-----------\n",
      "  add_dust_emission: True \n",
      "  duste_umin: 1.0 \n",
      "  duste_qpah: 4.0 \n",
      "  duste_gamma: 0.001 \n",
      "\n",
      "\n",
      "+-------------+\n",
      "|   nebular   |\n",
      "+-------------+\n",
      "Free Parameters: (name: prior) \n",
      "-----------\n",
      "  \n",
      "\n",
      "Fixed Parameters: (name: value [, depends_on]) \n",
      "-----------\n",
      "  add_neb_emission: True \n",
      "  add_neb_continuum: True \n",
      "  nebemlineinspec: True \n",
      "  gas_logz: 0.0 <function stellar_logzsol at 0x7ff140674680>\n",
      "  gas_logu: -2.0 \n",
      "\n",
      "\n"
     ]
    }
   ],
   "source": [
    "# You can have a full description of every templates with:\n",
    "# prosp.describe_templates(\"*\")\n",
    "\n",
    "# We will limit the print length with the description of the two templates we'll use:\n",
    "prosp.describe_templates([\"parametric_sfh\", \"dust_emission\", \"nebular\"])"
   ]
  },
  {
   "cell_type": "markdown",
   "metadata": {},
   "source": [
    "With all these elements, let's now build the `model`.<br>\n",
    "Once again, the instance method `build_model` includes a few arguments.\n",
    "- `model`: if you created your own model you can add it here (with our example, we add `model_tuto` and see below how to remove it)\n",
    "- `templates`: here you can give one or a list of template names to build the model. be careful of the order of the names in the list, because the code is using `dict.update` function in the order of the list.\n",
    "- `describe`: print the description of the priors from the given model (if any) and the given templates (if any).\n",
    "- `verbose`: print the built `model`\n",
    "\n",
    "The code starts to build the model with the given one, and then update it with the given templates (if any). If no initial model is given (thus only templates), it starts from the first given template, and then update it with the following ones."
   ]
  },
  {
   "cell_type": "code",
   "execution_count": 10,
   "metadata": {},
   "outputs": [
    {
     "name": "stdout",
     "output_type": "stream",
     "text": [
      "\n",
      "#=================#\n",
      "#   Built model   #\n",
      "#=================#\n",
      "\n",
      "{'add_dust_emission': {'N': 1, 'init': True, 'isfree': False},\n",
      " 'add_neb_continuum': {'N': 1, 'init': True, 'isfree': False},\n",
      " 'add_neb_emission': {'N': 1, 'init': True, 'isfree': False},\n",
      " 'dust2': {'N': 1,\n",
      "           'init': 0.6,\n",
      "           'isfree': True,\n",
      "           'prior': <class 'prospect.models.priors.TopHat'>(mini=0.0,maxi=2.0),\n",
      "           'units': 'optical depth at 5500AA'},\n",
      " 'dust_type': {'N': 1, 'init': 0, 'isfree': False},\n",
      " 'duste_gamma': {'N': 1,\n",
      "                 'init': 0.001,\n",
      "                 'isfree': False,\n",
      "                 'prior': <class 'prospect.models.priors.LogUniform'>(mini=0.001,maxi=0.15),\n",
      "                 'units': 'Mass fraction of dust in high radiation intensity.'},\n",
      " 'duste_qpah': {'N': 1,\n",
      "                'init': 4.0,\n",
      "                'isfree': False,\n",
      "                'prior': <class 'prospect.models.priors.TopHat'>(mini=0.5,maxi=7.0),\n",
      "                'units': 'Percent mass fraction of PAHs in dust.'},\n",
      " 'duste_umin': {'N': 1,\n",
      "                'init': 1.0,\n",
      "                'isfree': False,\n",
      "                'prior': <class 'prospect.models.priors.TopHat'>(mini=0.1,maxi=25),\n",
      "                'units': 'MMP83 local MW intensity'},\n",
      " 'gas_logu': {'N': 1,\n",
      "              'init': -2.0,\n",
      "              'isfree': False,\n",
      "              'prior': <class 'prospect.models.priors.TopHat'>(mini=-4,maxi=-1),\n",
      "              'units': 'Q_H/N_H'},\n",
      " 'gas_logz': {'N': 1,\n",
      "              'depends_on': <function stellar_logzsol at 0x7ff140674680>,\n",
      "              'init': 0.0,\n",
      "              'isfree': False,\n",
      "              'prior': <class 'prospect.models.priors.TopHat'>(mini=-2.0,maxi=0.5),\n",
      "              'units': 'log Z/Z_\\\\odot'},\n",
      " 'imf_type': {'N': 1, 'init': 2, 'isfree': False},\n",
      " 'logzsol': {'N': 1,\n",
      "             'init': -0.5,\n",
      "             'isfree': True,\n",
      "             'prior': <class 'prospect.models.priors.TopHat'>(mini=-2,maxi=0.19),\n",
      "             'units': '$\\\\log (Z/Z_\\\\odot)$'},\n",
      " 'mass': {'N': 1,\n",
      "          'init': 10000000000.0,\n",
      "          'isfree': True,\n",
      "          'prior': <class 'prospect.models.priors.LogUniform'>(mini=100000000.0,maxi=1000000000000.0),\n",
      "          'units': 'Solar masses formed'},\n",
      " 'mass_tuto': {'N': 1,\n",
      "               'disp_floor': 1000000.0,\n",
      "               'init': 100000000.0,\n",
      "               'init_disp': 1000000.0,\n",
      "               'isfree': True,\n",
      "               'prior': <class 'prospect.models.priors.LogUniform'>(mini=1000000.0,maxi=1000000000000.0),\n",
      "               'units': 'solar masses formed'},\n",
      " 'nebemlineinspec': {'N': 1, 'init': True, 'isfree': False},\n",
      " 'sfh': {'N': 1, 'init': 4, 'isfree': False, 'units': 'FSPS index'},\n",
      " 'tage': {'N': 1,\n",
      "          'init': 1,\n",
      "          'isfree': True,\n",
      "          'prior': <class 'prospect.models.priors.TopHat'>(mini=0.001,maxi=13.8),\n",
      "          'units': 'Gyr'},\n",
      " 'tau': {'N': 1,\n",
      "         'init': 1,\n",
      "         'isfree': True,\n",
      "         'prior': <class 'prospect.models.priors.LogUniform'>(mini=0.1,maxi=30),\n",
      "         'units': 'Gyr^{-1}'},\n",
      " 'zred': {'N': 1,\n",
      "          'init': 0.000551,\n",
      "          'isfree': False,\n",
      "          'prior': <class 'prospect.models.priors.TopHat'>(mini=0.0,maxi=4.0),\n",
      "          'units': 'redshift'}}\n"
     ]
    }
   ],
   "source": [
    "prosp.build_model(model=model_tuto, templates=[\"parametric_sfh\", \"dust_emission\", \"nebular\"], \n",
    "                  describe=False, verbose=True)"
   ]
  },
  {
   "cell_type": "markdown",
   "metadata": {},
   "source": [
    "Once the model is built, we can still modify it, using `modify_model`.\n",
    "\n",
    "In this example, we built the model from a handly made one with a tutorial parameter `mass_tuto`. In practical, templates already include a well defined stellar mass parameter (in some of the templates, it even depends on other parameters...). Thus, here, we want to remove `mass_tuto` from the model. We can do that giving a list of parameters to remove from the model to the `removings` argument.\n",
    "\n",
    "*Note: One could say that we could run again the previous cell without giving `model_tuto`to `model` argument. Indeed, but we want here to show the possiblities of the code...*\n",
    "\n",
    "Additionaly, depending on the object we are studying, we may want to change the prior probability for some of the parameters, or the initial value, etc. This can be done giving a dictionary very similar to the model creation (see `model_tuto` creation), but only containing parameters with new values. Then, the code applies the changes giving this dictionary to the `changes` argument.\n",
    "\n",
    "*Note: Two important things coming with the `changes` argument: if there is one (or more) parameter in the given dictionary not existing yet in the model, the code add it to the model ; if there is one (or more) key in one parameter of the given dictionary not existing yet in the same parameter from the model, the code add it to the model.*\n",
    "\n",
    "The code apply changes before the removings...\n",
    "\n",
    "Here again, a few more arguments:\n",
    "- `describe`: print the description of the priors from the given changes (if any).\n",
    "- `verbose`: print the previous `model` and the final modified one.\n",
    "- `warnings`: print warning messages if there's any, noticing some anomalies but without breaking the code"
   ]
  },
  {
   "cell_type": "code",
   "execution_count": 11,
   "metadata": {
    "scrolled": false
   },
   "outputs": [
    {
     "name": "stdout",
     "output_type": "stream",
     "text": [
      "\n",
      "#====================#\n",
      "#   Previous model   #\n",
      "#====================#\n",
      "\n",
      "{'add_dust_emission': {'N': 1,\n",
      "                       'init': True,\n",
      "                       'isfree': False,\n",
      "                       'name': 'add_dust_emission'},\n",
      " 'add_neb_continuum': {'N': 1,\n",
      "                       'init': True,\n",
      "                       'isfree': False,\n",
      "                       'name': 'add_neb_continuum'},\n",
      " 'add_neb_emission': {'N': 1,\n",
      "                      'init': True,\n",
      "                      'isfree': False,\n",
      "                      'name': 'add_neb_emission'},\n",
      " 'dust2': {'N': 1,\n",
      "           'init': 0.6,\n",
      "           'isfree': True,\n",
      "           'name': 'dust2',\n",
      "           'prior': <class 'prospect.models.priors.TopHat'>(mini=0.0,maxi=2.0),\n",
      "           'units': 'optical depth at 5500AA'},\n",
      " 'dust_type': {'N': 1, 'init': 0, 'isfree': False, 'name': 'dust_type'},\n",
      " 'duste_gamma': {'N': 1,\n",
      "                 'init': 0.001,\n",
      "                 'isfree': False,\n",
      "                 'name': 'duste_gamma',\n",
      "                 'prior': <class 'prospect.models.priors.LogUniform'>(mini=0.001,maxi=0.15),\n",
      "                 'units': 'Mass fraction of dust in high radiation intensity.'},\n",
      " 'duste_qpah': {'N': 1,\n",
      "                'init': 4.0,\n",
      "                'isfree': False,\n",
      "                'name': 'duste_qpah',\n",
      "                'prior': <class 'prospect.models.priors.TopHat'>(mini=0.5,maxi=7.0),\n",
      "                'units': 'Percent mass fraction of PAHs in dust.'},\n",
      " 'duste_umin': {'N': 1,\n",
      "                'init': 1.0,\n",
      "                'isfree': False,\n",
      "                'name': 'duste_umin',\n",
      "                'prior': <class 'prospect.models.priors.TopHat'>(mini=0.1,maxi=25),\n",
      "                'units': 'MMP83 local MW intensity'},\n",
      " 'gas_logu': {'N': 1,\n",
      "              'init': -2.0,\n",
      "              'isfree': False,\n",
      "              'name': 'gas_logu',\n",
      "              'prior': <class 'prospect.models.priors.TopHat'>(mini=-4,maxi=-1),\n",
      "              'units': 'Q_H/N_H'},\n",
      " 'gas_logz': {'N': 1,\n",
      "              'depends_on': <function stellar_logzsol at 0x7ff140674680>,\n",
      "              'init': 0.0,\n",
      "              'isfree': False,\n",
      "              'name': 'gas_logz',\n",
      "              'prior': <class 'prospect.models.priors.TopHat'>(mini=-2.0,maxi=0.5),\n",
      "              'units': 'log Z/Z_\\\\odot'},\n",
      " 'imf_type': {'N': 1, 'init': 2, 'isfree': False, 'name': 'imf_type'},\n",
      " 'logzsol': {'N': 1,\n",
      "             'init': -0.5,\n",
      "             'isfree': True,\n",
      "             'name': 'logzsol',\n",
      "             'prior': <class 'prospect.models.priors.TopHat'>(mini=-2,maxi=0.19),\n",
      "             'units': '$\\\\log (Z/Z_\\\\odot)$'},\n",
      " 'mass': {'N': 1,\n",
      "          'init': 10000000000.0,\n",
      "          'isfree': True,\n",
      "          'name': 'mass',\n",
      "          'prior': <class 'prospect.models.priors.LogUniform'>(mini=100000000.0,maxi=1000000000000.0),\n",
      "          'units': 'Solar masses formed'},\n",
      " 'mass_tuto': {'N': 1,\n",
      "               'disp_floor': 1000000.0,\n",
      "               'init': 100000000.0,\n",
      "               'init_disp': 1000000.0,\n",
      "               'isfree': True,\n",
      "               'name': 'mass_tuto',\n",
      "               'prior': <class 'prospect.models.priors.LogUniform'>(mini=1000000.0,maxi=1000000000000.0),\n",
      "               'units': 'solar masses formed'},\n",
      " 'nebemlineinspec': {'N': 1,\n",
      "                     'init': True,\n",
      "                     'isfree': False,\n",
      "                     'name': 'nebemlineinspec'},\n",
      " 'sfh': {'N': 1,\n",
      "         'init': 4,\n",
      "         'isfree': False,\n",
      "         'name': 'sfh',\n",
      "         'units': 'FSPS index'},\n",
      " 'tage': {'N': 1,\n",
      "          'init': 1,\n",
      "          'isfree': True,\n",
      "          'name': 'tage',\n",
      "          'prior': <class 'prospect.models.priors.TopHat'>(mini=0.001,maxi=13.8),\n",
      "          'units': 'Gyr'},\n",
      " 'tau': {'N': 1,\n",
      "         'init': 1,\n",
      "         'isfree': True,\n",
      "         'name': 'tau',\n",
      "         'prior': <class 'prospect.models.priors.LogUniform'>(mini=0.1,maxi=30),\n",
      "         'units': 'Gyr^{-1}'},\n",
      " 'zred': {'N': 1,\n",
      "          'init': 0.000551,\n",
      "          'isfree': False,\n",
      "          'name': 'zred',\n",
      "          'prior': <class 'prospect.models.priors.TopHat'>(mini=0.0,maxi=4.0),\n",
      "          'units': 'redshift'}}\n",
      "\n",
      "\n",
      "\n",
      "#===============#\n",
      "#   New model   #\n",
      "#===============#\n",
      "\n",
      "{'add_dust_emission': {'N': 1,\n",
      "                       'init': True,\n",
      "                       'isfree': False,\n",
      "                       'name': 'add_dust_emission'},\n",
      " 'add_neb_continuum': {'N': 1,\n",
      "                       'init': True,\n",
      "                       'isfree': False,\n",
      "                       'name': 'add_neb_continuum'},\n",
      " 'add_neb_emission': {'N': 1,\n",
      "                      'init': True,\n",
      "                      'isfree': False,\n",
      "                      'name': 'add_neb_emission'},\n",
      " 'dust2': {'N': 1,\n",
      "           'init': 0.05,\n",
      "           'isfree': True,\n",
      "           'name': 'dust2',\n",
      "           'prior': <class 'prospect.models.priors.TopHat'>(mini=0.0,maxi=2.0),\n",
      "           'units': 'optical depth at 5500AA'},\n",
      " 'dust_type': {'N': 1, 'init': 0, 'isfree': False, 'name': 'dust_type'},\n",
      " 'duste_gamma': {'N': 1,\n",
      "                 'init': 0.001,\n",
      "                 'isfree': False,\n",
      "                 'name': 'duste_gamma',\n",
      "                 'prior': <class 'prospect.models.priors.LogUniform'>(mini=0.001,maxi=0.15),\n",
      "                 'units': 'Mass fraction of dust in high radiation intensity.'},\n",
      " 'duste_qpah': {'N': 1,\n",
      "                'init': 4.0,\n",
      "                'isfree': False,\n",
      "                'name': 'duste_qpah',\n",
      "                'prior': <class 'prospect.models.priors.TopHat'>(mini=0.5,maxi=7.0),\n",
      "                'units': 'Percent mass fraction of PAHs in dust.'},\n",
      " 'duste_umin': {'N': 1,\n",
      "                'init': 1.0,\n",
      "                'isfree': False,\n",
      "                'name': 'duste_umin',\n",
      "                'prior': <class 'prospect.models.priors.TopHat'>(mini=0.1,maxi=25),\n",
      "                'units': 'MMP83 local MW intensity'},\n",
      " 'gas_logu': {'N': 1,\n",
      "              'init': -2.0,\n",
      "              'isfree': False,\n",
      "              'name': 'gas_logu',\n",
      "              'prior': <class 'prospect.models.priors.TopHat'>(mini=-4,maxi=-1),\n",
      "              'units': 'Q_H/N_H'},\n",
      " 'gas_logz': {'N': 1,\n",
      "              'depends_on': <function stellar_logzsol at 0x7ff140674680>,\n",
      "              'init': 0.0,\n",
      "              'isfree': False,\n",
      "              'name': 'gas_logz',\n",
      "              'prior': <class 'prospect.models.priors.TopHat'>(mini=-2.0,maxi=0.5),\n",
      "              'units': 'log Z/Z_\\\\odot'},\n",
      " 'imf_type': {'N': 1, 'init': 2, 'isfree': False, 'name': 'imf_type'},\n",
      " 'logzsol': {'N': 1,\n",
      "             'init': -0.5,\n",
      "             'isfree': True,\n",
      "             'name': 'logzsol',\n",
      "             'prior': <class 'prospect.models.priors.TopHat'>(mini=-2,maxi=0.19),\n",
      "             'units': '$\\\\log (Z/Z_\\\\odot)$'},\n",
      " 'mass': {'N': 1,\n",
      "          'disp_floor': 1000000.0,\n",
      "          'init': 100000000.0,\n",
      "          'init_disp': 1000000.0,\n",
      "          'isfree': True,\n",
      "          'name': 'mass',\n",
      "          'prior': <class 'prospect.models.priors.LogUniform'>(mini=1000000.0,maxi=10000000000.0),\n",
      "          'units': 'Solar masses formed'},\n",
      " 'nebemlineinspec': {'N': 1,\n",
      "                     'init': True,\n",
      "                     'isfree': False,\n",
      "                     'name': 'nebemlineinspec'},\n",
      " 'sfh': {'N': 1,\n",
      "         'init': 4,\n",
      "         'isfree': False,\n",
      "         'name': 'sfh',\n",
      "         'units': 'FSPS index'},\n",
      " 'tage': {'N': 1,\n",
      "          'disp_floor': 1.0,\n",
      "          'init': 13.0,\n",
      "          'isfree': True,\n",
      "          'name': 'tage',\n",
      "          'prior': <class 'prospect.models.priors.TopHat'>(mini=0.001,maxi=13.8),\n",
      "          'units': 'Gyr'},\n",
      " 'tau': {'N': 1,\n",
      "         'disp_floor': 1.0,\n",
      "         'init': 1,\n",
      "         'isfree': True,\n",
      "         'name': 'tau',\n",
      "         'prior': <class 'prospect.models.priors.LogUniform'>(mini=0.1,maxi=100.0),\n",
      "         'units': 'Gyr^{-1}'},\n",
      " 'zred': {'N': 1,\n",
      "          'init': 0.000551,\n",
      "          'isfree': False,\n",
      "          'name': 'zred',\n",
      "          'prior': <class 'prospect.models.priors.TopHat'>(mini=0.0,maxi=4.0),\n",
      "          'units': 'redshift'}}\n"
     ]
    },
    {
     "name": "stderr",
     "output_type": "stream",
     "text": [
      "/Users/mart1/anaconda3/lib/python3.7/site-packages/pyprosp-0.2.2-py3.7.egg/pyprosp/prospector.py:416: UserWarning: 'disp_floor' is not included in 'tage' model parameters. Adding it...\n",
      "/Users/mart1/anaconda3/lib/python3.7/site-packages/pyprosp-0.2.2-py3.7.egg/pyprosp/prospector.py:416: UserWarning: 'init_disp' is not included in 'mass' model parameters. Adding it...\n",
      "/Users/mart1/anaconda3/lib/python3.7/site-packages/pyprosp-0.2.2-py3.7.egg/pyprosp/prospector.py:416: UserWarning: 'disp_floor' is not included in 'mass' model parameters. Adding it...\n",
      "/Users/mart1/anaconda3/lib/python3.7/site-packages/pyprosp-0.2.2-py3.7.egg/pyprosp/prospector.py:416: UserWarning: 'disp_floor' is not included in 'tau' model parameters. Adding it...\n",
      "/Users/mart1/anaconda3/lib/python3.7/site-packages/pyprosp-0.2.2-py3.7.egg/pyprosp/prospector.py:456: UserWarning: Cannot remove 'not_existing_parameter' as it doesn't exist in the current model.\n"
     ]
    }
   ],
   "source": [
    "changes = {\"dust2\":{\"init\":0.05}, \n",
    "           \"tage\":{\"init\":13., \"disp_floor\":1.},\n",
    "           \"mass\":{\"init\":1e8, \"prior\":{\"name\":\"LogUniform\", \"mini\":1e6, \"maxi\":1e10}, \n",
    "                   \"init_disp\": 1e6, \"disp_floor\":1e6},\n",
    "           \"tau\":{\"prior\":{\"name\":\"LogUniform\", \"mini\":1e-1, \"maxi\":1e2}, \"disp_floor\":1.}, \n",
    "           }\n",
    "\n",
    "removings = [\"mass_tuto\", \"not_existing_parameter\"]\n",
    "# Note that we add in the list of removings a parameter which doesn't exist in the model, \n",
    "# but the code just inform you that it already doesn't exist by a warning \n",
    "# (which can even be not printed if 'warnings = False').\n",
    "\n",
    "prosp.modify_model(changes=changes, removings=removings, verbose=True, warnings=True, describe=False)"
   ]
  },
  {
   "cell_type": "markdown",
   "metadata": {},
   "source": [
    "That's all for the `model`."
   ]
  },
  {
   "cell_type": "markdown",
   "metadata": {},
   "source": [
    "### Build `sps`"
   ]
  },
  {
   "cell_type": "markdown",
   "metadata": {},
   "source": [
    "Last step of the `prospector` initialization is to build the `sps`. As we said above, to be automatically built, `build_sps` has to be executed after `build_model`, because the `sps` depends on the `model` parameters.\n",
    "\n",
    "This method accepts two arguments:\n",
    "- `sps`: if you already have a built `sps`, you can give it here.\n",
    "- `zcontinuous`: this is a `python-fsps` parameter controlling how metallicity interpolation of the SSPs is acheived (a value of 1 is recommended):\n",
    "    - 0: use discrete indices (controlled by parameter \"zmet\")\n",
    "    - 1: linearly interpolate in log Z/Z_\\sun to the target metallicity (the parameter \"logzsol\")\n",
    "    - 2: convolve with a metallicity distribution function at each age (the MDF is controlled by the parameter \"pmetals\")\n",
    "\n",
    "*Note: this can take a bit of time the first time you build it, but will be much faster as long as you don't restart the kernel.*"
   ]
  },
  {
   "cell_type": "code",
   "execution_count": 12,
   "metadata": {},
   "outputs": [],
   "source": [
    "prosp.build_sps(zcontinuous=1)"
   ]
  },
  {
   "cell_type": "markdown",
   "metadata": {},
   "source": [
    "The `prospector` initialization is now done. Let's run the SED fitting."
   ]
  },
  {
   "cell_type": "markdown",
   "metadata": {},
   "source": [
    "## SED fitting"
   ]
  },
  {
   "cell_type": "markdown",
   "metadata": {},
   "source": [
    "### `dynesty`"
   ]
  },
  {
   "cell_type": "markdown",
   "metadata": {},
   "source": [
    "`prospector` proposes different way to fit the SED: a basic minimization, the MCMC sampling using `emcee` and a dynamic nested sampling using `dynesty`. In this tutorial, we only show how to use `dynesty` and `emcee`.\n",
    "\n",
    "Each one has its own running parameters, which can be described with `describe_run_parameters` method.\n",
    "\n",
    "Let's begin with `dynesty` (`prospector` doesn't contain a lot of comments of these parameters, but you can have a look at the given website):"
   ]
  },
  {
   "cell_type": "code",
   "execution_count": 13,
   "metadata": {},
   "outputs": [
    {
     "name": "stdout",
     "output_type": "stream",
     "text": [
      "\n",
      "#====================================#\n",
      "#   Running parameters description   #\n",
      "#====================================#\n",
      "\n",
      "\n",
      "+-------------+\n",
      "|   dynesty   |\n",
      "+-------------+\n",
      "\n",
      "    nested_bound: (optional, default: 'multi')\n",
      "\n",
      "    nested_sample: (optional, default: 'unif')\n",
      "\n",
      "    nested_nlive_init: (optional, default: 100)\n",
      "\n",
      "    nested_nlive_batch: (optional, default: 100)\n",
      "\n",
      "    nested_dlogz_init: (optional, default: 0.02)\n",
      "\n",
      "    nested_maxcall: (optional, default: None)\n",
      "\n",
      "    nested_walks: (optional, default: 25)\n",
      "\n",
      "    \n",
      "    There are more informations on these parameters at:\n",
      "        https://dynesty.readthedocs.io/en/latest/api.html#dynesty.dynesty.DynamicNestedSampler\n",
      "\n"
     ]
    }
   ],
   "source": [
    "prosp.describe_run_parameters(\"dynesty\")"
   ]
  },
  {
   "cell_type": "markdown",
   "metadata": {},
   "source": [
    "Here are some example convenient values to give to dynesty (look at `run_params` dictionary, below).\n",
    "\n",
    "You can run the SED fitting using `run_fit` method.<br>\n",
    "It accepts a few arguments:\n",
    "- `which`: choice of SED fitter (here we'll start with \"dynesty\")\n",
    "- `run_params`: running parameters (should be a kwargs dictionary compatible with the chosen SED fitter)\n",
    "- `savefile`: allow to write a .h5 file with the fit results (this can be done with a separate method, see below)\n",
    "- `set_chains`: allow to build the parameter chains coming from the SED fitting with default values (can also be done with a seperate method controlling arguments)\n",
    "- `verbose`: print some time informations"
   ]
  },
  {
   "cell_type": "code",
   "execution_count": 14,
   "metadata": {},
   "outputs": [
    {
     "name": "stderr",
     "output_type": "stream",
     "text": [
      "iter: 2148 | batch: 0 | nc: 1 | ncall: 8422 | eff(%): 25.505 | logz: 160.692 +/-  0.540 | dlogz:  0.000 >  0.050           "
     ]
    },
    {
     "name": "stdout",
     "output_type": "stream",
     "text": [
      "\n",
      "done dynesty (initial) in 605.4958930015564s\n"
     ]
    },
    {
     "name": "stderr",
     "output_type": "stream",
     "text": [
      "iter: 5064 | batch: 7 | nc: 4 | ncall: 18910 | eff(%): 25.893 | loglstar: 171.115 < 177.706 < 176.672 | logz: 160.811 +/-  0.526 | stop:  1.010     "
     ]
    },
    {
     "name": "stdout",
     "output_type": "stream",
     "text": [
      "done dynesty (dynamic) in 363.1007013320923s\n",
      "Done 'dynesty' in 969s.\n"
     ]
    }
   ],
   "source": [
    "run_params = {\"nested_method\":\"rwalk\", \n",
    "              \"nlive_init\":400, \n",
    "              \"nlive_batch\":200, \n",
    "              \"nested_dlogz_init\":0.05, \n",
    "              \"nested_posterior_thresh\":0.05, \n",
    "              \"nested_maxcall\":int(1e7)}\n",
    "\n",
    "prosp.run_fit(which=\"dynesty\", run_params=run_params, savefile=None, set_chains=False, verbose=True)"
   ]
  },
  {
   "cell_type": "code",
   "execution_count": 15,
   "metadata": {},
   "outputs": [
    {
     "name": "stdout",
     "output_type": "stream",
     "text": [
      "{'optimization': (None, 0.0),\n",
      " 'sampling': ({'batch_bounds': array([[        -inf,          inf],\n",
      "       [173.77065643, 175.62560174],\n",
      "       [172.99542412, 173.77075924],\n",
      "       [172.62419314, 173.00872403],\n",
      "       [172.16050345, 176.3818622 ],\n",
      "       [171.75862923, 172.16399074],\n",
      "       [171.39225125, 176.25344288],\n",
      "       [171.11481746, 176.67163251]]),\n",
      "               'batch_nlive': array([100, 100, 100, 100, 100, 100, 100, 100]),\n",
      "               'eff': 25.892963094814288,\n",
      "               'information': array([-8.27263149e+09, -3.97969371e+08,  8.88053008e+07, ...,\n",
      "        1.43527904e+01,  1.43534176e+01,  1.43540868e+01]),\n",
      "               'logl': array([-2.53679404e+13, -2.81535488e+12, -2.04817917e+12, ...,\n",
      "        1.77976842e+02,  1.78041891e+02,  1.78064350e+02]),\n",
      "               'logvol': array([-9.95033085e-03, -1.99006617e-02, -2.98509926e-02, ...,\n",
      "       -2.41397210e+01, -2.45451861e+01, -2.52383333e+01]),\n",
      "               'logwt': array([-2.53679404e+13, -2.81535488e+12, -2.04817917e+12, ...,\n",
      "        1.52719058e+02,  1.52771562e+02,  1.52814850e+02]),\n",
      "               'logz': array([-2.53679404e+13, -2.81535488e+12, -2.04817917e+12, ...,\n",
      "        1.60777055e+02,  1.60777389e+02,  1.60777737e+02]),\n",
      "               'logzerr': array([           nan,            nan, 1.32939244e+03, ...,\n",
      "       5.22998029e-01, 5.23484008e-01, 5.24369391e-01]),\n",
      "               'ncall': array([1, 1, 1, ..., 1, 1, 1]),\n",
      "               'niter': 4364,\n",
      "               'samples': array([[ 6.60154593e+09, -5.87721856e-01,  1.26721793e+00,\n",
      "         1.11002770e+00,  2.18713732e+01],\n",
      "       [ 3.47548931e+09, -1.40258915e+00,  7.32234985e-01,\n",
      "         2.03739084e+00,  2.83996391e+01],\n",
      "       [ 5.39260771e+09,  1.20275782e-01,  1.17732577e+00,\n",
      "         2.59741860e+00,  1.09201797e+01],\n",
      "       ...,\n",
      "       [ 2.51743898e+06, -5.54919920e-01,  3.17289178e-03,\n",
      "         2.45471410e+00,  4.07813882e-01],\n",
      "       [ 2.40841645e+06, -5.35111805e-01,  4.10090131e-03,\n",
      "         2.30937496e+00,  3.81731727e-01],\n",
      "       [ 2.38606585e+06, -5.28395623e-01,  2.97362910e-03,\n",
      "         2.31389549e+00,  3.84694968e-01]]),\n",
      "               'samples_batch': array([0, 0, 0, ..., 0, 0, 0]),\n",
      "               'samples_id': array([66, 11, 96, ..., 68, 64, 83]),\n",
      "               'samples_it': array([   0,    0,    0, ..., 1999, 1932, 1903]),\n",
      "               'samples_n': array([100, 100, 100, ...,   3,   2,   1]),\n",
      "               'samples_u': array([[0.95491141, 0.64487586, 0.63360897, 0.08037015, 0.77995868],\n",
      "       [0.88525399, 0.27279034, 0.36611749, 0.14757525, 0.81777094],\n",
      "       [0.93294971, 0.96816246, 0.58866288, 0.18815991, 0.67940993],\n",
      "       ...,\n",
      "       [0.10023974, 0.65985392, 0.00158645, 0.17781825, 0.20348734],\n",
      "       [0.0954329 , 0.66889872, 0.00205045, 0.16728567, 0.19391942],\n",
      "       [0.09442061, 0.67196547, 0.00148681, 0.16761327, 0.19503884]])},\n",
      "              968.6086809635162)}\n"
     ]
    }
   ],
   "source": [
    "pprint(prosp.fit_output)"
   ]
  },
  {
   "cell_type": "markdown",
   "metadata": {},
   "source": [
    "The SED fitting is now done and stored in `fit_output` attribute.\n",
    "\n",
    "You can build and store the parameter chains using `set_chains`. This method accepts two arguments:\n",
    "- `data`: chains coming from SED fitting. Note that `emcee` (multiple walkers) and `dynesty` (one walker) give different chains format, but the code handle that point. This argument accept data coming from the SED fitting output itself, or chains saved in a .h5 file. If None is given, it automatically takes the fit output data.\n",
    "- `start`: set the step from which the chains are stored. You can give an integer, applied on every walkers (the one from `dynesty` or every walkers from `emcee`). If you give None, the default value depends on the fitter choice (`emcee` takes 0, `dynesty` takes a convenient value when the dynamic sampling start to stabilize).\n",
    "\n",
    "Let's run it with the default values (note that it's similar to run `run_fit` with the argument `set_chains=True`, see above)."
   ]
  },
  {
   "cell_type": "code",
   "execution_count": 16,
   "metadata": {},
   "outputs": [],
   "source": [
    "prosp.set_chains(data=None, start=None)"
   ]
  },
  {
   "cell_type": "markdown",
   "metadata": {},
   "source": [
    "Finally, we can write SED fitting results in a .h5 file with the method `write_h5`. It's basically using the `prospector` writing codes, to which we add a save of the model and the sps instances to load them quickly.\n",
    "\n",
    "To run it we just have to give file name or directory, ending with \".h5\" (note that it's equivalent to directly give the file name to `savefile` argument of `run_fit` method).\n",
    "\n",
    "*Note: If the file already exists, it will raise an exception (which actually is strange because `prospector` package is supposed to add a timestamp to the file name in this case...). However, if you tried to save the results directly from the `run_fit` method and unfortunately get this exception, don't worry, you don't have to run again the SED fitting! The results are stored as an attribute of the instance and you can still save them with `write_h5`.*"
   ]
  },
  {
   "cell_type": "code",
   "execution_count": 17,
   "metadata": {},
   "outputs": [
    {
     "name": "stderr",
     "output_type": "stream",
     "text": [
      "/Users/mart1/anaconda3/lib/python3.7/site-packages/prospect-0.4.0-py3.7.egg/prospect/io/write_results.py:60: RuntimeWarning: Could not store paramfile text\n",
      "/Users/mart1/anaconda3/lib/python3.7/site-packages/prospect-0.4.0-py3.7.egg/prospect/io/write_results.py:278: RuntimeWarning: Could not JSON serialize model_params, pickled instead\n"
     ]
    }
   ],
   "source": [
    "prosp.write_h5(savefile=\"tutorial_dynesty.h5\")"
   ]
  },
  {
   "cell_type": "markdown",
   "metadata": {},
   "source": [
    "### `emcee`"
   ]
  },
  {
   "cell_type": "markdown",
   "metadata": {},
   "source": [
    "Let's now use `emcee`. Once again, we can start visualizing what the availble running parameters are (much more exhaustive than for `dynesty`)."
   ]
  },
  {
   "cell_type": "code",
   "execution_count": 18,
   "metadata": {},
   "outputs": [
    {
     "name": "stdout",
     "output_type": "stream",
     "text": [
      "\n",
      "#====================================#\n",
      "#   Running parameters description   #\n",
      "#====================================#\n",
      "\n",
      "\n",
      "+-----------+\n",
      "|   emcee   |\n",
      "+-----------+\n",
      "\n",
      "    initial_positions: (optional, default: None)\n",
      "        If given, a set of initial positions for the emcee walkers.  Must have\n",
      "        shape (nwalkers, ndim).  Rounds of burn-in will be skipped if this\n",
      "        parameter is present.\n",
      "\n",
      "    Extra Parameters\n",
      "    --------\n",
      "\n",
      "    nwalkers:\n",
      "        The number of walkers to use.  If None, use the nearest power of two to\n",
      "        ``ndim * walker_factor``.\n",
      "\n",
      "    niter:\n",
      "        Number of iterations for the production run\n",
      "\n",
      "    nburn:\n",
      "        List of the number of iterations to run in each round of burn-in (for\n",
      "        removing stuck walkers.) E.g. `nburn=[32, 64]` will run the sampler for\n",
      "        32 iterations before reinitializing and then run the sampler for\n",
      "        another 64 iterations before starting the production run.\n",
      "\n",
      "    storechain: (default: True)\n",
      "        If using HDF5 output, setting this to False will keep the chain from\n",
      "        being held in memory by the sampler object.\n",
      "\n",
      "    pool: (optional)\n",
      "        A ``Pool`` object, either from ``multiprocessing`` or from\n",
      "        ``emcee.mpi_pool``.\n",
      "\n",
      "    interval:\n",
      "        Fraction of the full run at which to flush to disk, if using hdf5 for\n",
      "        output.\n",
      "\n",
      "    convergence_check_interval:\n",
      "        How often to assess convergence, in number of iterations. If this is\n",
      "        not `None`, then the KL convergence test is run.\n",
      "\n",
      "    convergence_chunks:\n",
      "        The number of iterations to combine when creating the marginalized\n",
      "        parameter probability functions.\n",
      "\n",
      "    convergence_stable_points_criteria:\n",
      "        The number of stable convergence checks that the chain must pass before\n",
      "        being declared stable.\n",
      "\n",
      "    \n"
     ]
    }
   ],
   "source": [
    "prosp.describe_run_parameters(\"emcee\")"
   ]
  },
  {
   "cell_type": "markdown",
   "metadata": {},
   "source": [
    "Here again an example of some convenient values for this tutorial is given (see below the `run_params` dictionary).\n",
    "\n",
    "Now that we know how the seperate methods work, we will use the shortcuts with `run_fit` arguments:\n",
    "- `which`: choice of SED fitter (here we'll start with \"dynesty\")\n",
    "- `run_params`: running parameters (should be a kwargs dictionary compatible with the chosen SED fitter)\n",
    "- `savefile`: allow to write a .h5 file with the fit results (here we directly give the file name, shortcuting the seperate method `write_h5`)\n",
    "- `set_chains`: allow to build the parameter chains coming from the SED fitting with default values (here we set `True`, doing it right after the fit and shorcuting the method of the same name)\n",
    "- `verbose`: print some time informations"
   ]
  },
  {
   "cell_type": "code",
   "execution_count": null,
   "metadata": {},
   "outputs": [
    {
     "name": "stdout",
     "output_type": "stream",
     "text": [
      "number of walkers=16\n"
     ]
    },
    {
     "name": "stderr",
     "output_type": "stream",
     "text": [
      "/Users/mart1/anaconda3/lib/python3.7/site-packages/prospect-0.4.0-py3.7.egg/prospect/models/priors.py:104: RuntimeWarning: divide by zero encountered in log\n"
     ]
    },
    {
     "name": "stdout",
     "output_type": "stream",
     "text": [
      "done burn #0 (128 iterations)\n",
      "done burn #1 (256 iterations)\n",
      "done burn #2 (512 iterations)\n",
      "number of walkers=16\n",
      "starting production\n"
     ]
    }
   ],
   "source": [
    "run_params = {\"nwalkers\":16, \n",
    "              \"niter\":1024, \n",
    "              \"nburn\":[128, 256, 512]}\n",
    "\n",
    "prosp.run_fit(which=\"emcee\", run_params=run_params, savefile=\"tutorial_emcee.h5\", set_chains=True, verbose=True)"
   ]
  },
  {
   "cell_type": "code",
   "execution_count": null,
   "metadata": {},
   "outputs": [],
   "source": [
    "pprint(prosp.fit_output)"
   ]
  },
  {
   "cell_type": "markdown",
   "metadata": {},
   "source": [
    "And here we are, the SED fitting has been done with two different methods using `prospector` package processes. Fit outputs have been saved in files and we can now work with them.\n",
    "\n",
    "*Note: everything that we will do from now on can be done directly on the present instance. However, we will show how to start from a previously made SED fitting.*"
   ]
  },
  {
   "cell_type": "markdown",
   "metadata": {},
   "source": [
    "# Working with SED fitting results"
   ]
  },
  {
   "cell_type": "markdown",
   "metadata": {},
   "source": [
    "*Note: you can execute the following cells without running what's above, except for the importings and at the condition that you did the SED fitting once to create the saving files.*"
   ]
  },
  {
   "cell_type": "markdown",
   "metadata": {},
   "source": [
    "## Openning files"
   ]
  },
  {
   "cell_type": "markdown",
   "metadata": {},
   "source": [
    "`pyprosp` allows the user to build an instance directly from a .h5 file using `from_h5`. This method takes as argument: \n",
    "- `filename`: the file name or directory (ending with \".h5\")\n",
    "- `warnings`: print warning messages if there's any, noticing some anomalies but without breaking the code\n",
    "\n",
    "Let's do this with the files we made earlier:"
   ]
  },
  {
   "cell_type": "code",
   "execution_count": null,
   "metadata": {},
   "outputs": [],
   "source": [
    "h5_choice = \"dynesty\" \n",
    "# Choose here if you want to open the fit results from \"dynesty\" or \"emcee\".\n",
    "# Note that whatever your choice is, every following methods should work fine."
   ]
  },
  {
   "cell_type": "code",
   "execution_count": null,
   "metadata": {},
   "outputs": [],
   "source": [
    "prosp_h5 = prospector.Prospector.from_h5(f\"tutorial_{h5_choice}.h5\", warnings=True)"
   ]
  },
  {
   "cell_type": "markdown",
   "metadata": {},
   "source": [
    "From this object, you have access to everything we did from the beginning of this notebook.\n",
    "\n",
    "Let's now visualize the results."
   ]
  },
  {
   "cell_type": "markdown",
   "metadata": {},
   "source": [
    "## Plotting the fit results"
   ]
  },
  {
   "cell_type": "markdown",
   "metadata": {},
   "source": [
    "`prospector` package includes some plotting functions really useful. For example here is a way to plot the fitted parameter chains:"
   ]
  },
  {
   "cell_type": "code",
   "execution_count": null,
   "metadata": {},
   "outputs": [],
   "source": [
    "_ = prosp_h5.show_walkers(savefile=None, figsize=(10,5))\n",
    "\n",
    "# You can have a look at extra arguments taping 'tab' in the parenthese"
   ]
  },
  {
   "cell_type": "markdown",
   "metadata": {},
   "source": [
    "This method returns the matplotlib.figure.Figure.<br>\n",
    "If you want to save it, you can give a file name or directory to the argument `savefile`.\n",
    "\n",
    "Another useful plot is the corner (same remarks as just above):"
   ]
  },
  {
   "cell_type": "code",
   "execution_count": null,
   "metadata": {},
   "outputs": [],
   "source": [
    "_ = prosp_h5.show_corner(fig=plt.subplots(5,5,figsize=(10,10))[0])\n",
    "\n",
    "# Here again, you can have a look at extra arguments taping 'tab' in the parenthese"
   ]
  },
  {
   "cell_type": "markdown",
   "metadata": {},
   "source": [
    "## Posteriors"
   ]
  },
  {
   "cell_type": "markdown",
   "metadata": {},
   "source": [
    "Finally, let's have a look at parameter posteriors:"
   ]
  },
  {
   "cell_type": "code",
   "execution_count": null,
   "metadata": {},
   "outputs": [],
   "source": [
    "prosp_h5.fitted_params"
   ]
  },
  {
   "cell_type": "markdown",
   "metadata": {},
   "source": [
    "In this dictionary, for each fitted parameter of the model is given a tuple containing the chain's median, one sigma down, one sigma up. The calculation is made recovering 16%, 50% and 84% of the chain."
   ]
  },
  {
   "cell_type": "markdown",
   "metadata": {},
   "source": [
    "## Spectrum"
   ]
  },
  {
   "cell_type": "code",
   "execution_count": null,
   "metadata": {},
   "outputs": [],
   "source": [
    "from pyprosp import spectrum"
   ]
  },
  {
   "cell_type": "markdown",
   "metadata": {},
   "source": [
    "Let's now extract the resulting spectrum. There are two ways of doing so:\n",
    "- you can recover it as an attibute of the present instance\n",
    "- you can buiild it from a .h5 file (just like above reading file to build a `Prospector` instance)\n",
    "\n",
    "What's important to notice is that we will work on a `ProspectorSpectrum` instance:"
   ]
  },
  {
   "cell_type": "code",
   "execution_count": null,
   "metadata": {},
   "outputs": [],
   "source": [
    "# Either recover the spectrum with:\n",
    "# prosp_spec = prosp_h5.spectrum\n",
    "\n",
    "# or with:\n",
    "prosp_spec = spectrum.ProspectorSpectrum.from_h5(f\"tutorial_{h5_choice}.h5\", warnings=True)"
   ]
  },
  {
   "cell_type": "markdown",
   "metadata": {},
   "source": [
    "Next step is to extract spectra from the parameter chains. We do this with the `load_spectra` method, taking as arguments:\n",
    "- `from_file`: if you already extracted the spectra and saved them in file, you load them giving the file name here\n",
    "- `size`: allow to control the size of the spectrum chain. If you give an integer, the code take that many sets of fitted parameters to build the spectrum chain. Giving `None` means that the full chains are used. Can help to reduce the calculation time.\n",
    "- `savefile`: allow to save the spectrum chain in a file giving its name or directory (see more details below)\n",
    "- `warnings`: print warning messages if there's any, noticing some anomalies but without breaking the code\n",
    "\n",
    "This can take time, depending on the length of the fitted parameter chains."
   ]
  },
  {
   "cell_type": "code",
   "execution_count": null,
   "metadata": {},
   "outputs": [],
   "source": [
    "prosp_spec.load_spectra(from_file=None, size=None, savefile=None, warnings=True)"
   ]
  },
  {
   "cell_type": "markdown",
   "metadata": {},
   "source": [
    "Now that the spectrum chain is extracted, it may be useful to write it in a file (to earn time reloading it, or for other personal purposes...). The method `load_spectra` can directly do it with its argument `savefile`. But here are a few more details.\n",
    "\n",
    "The method `write_spec` can execute two different process:\n",
    "- if you give a file name ending with \".h5\", it creates in the given file a group and add as attribute each step of the spectrum chain and the corresponding wavelength array. Note that you can give the SED fitting results file to add the spectrum chain inside.\n",
    "- in other cases, the code will try to run `pandas.DataFrame.to_csv()` function (note that `write_spec` can take as extra arguments the ones from `to_csv`)."
   ]
  },
  {
   "cell_type": "code",
   "execution_count": null,
   "metadata": {},
   "outputs": [],
   "source": [
    "prosp_spec.write_spec(savefile=f\"tutorial_{h5_choice}.h5\")"
   ]
  },
  {
   "cell_type": "markdown",
   "metadata": {},
   "source": [
    "**Important:**<br>\n",
    "Let's notice here an important point. Remember that we can load a `ProspectorSpectrum` instance directly from a .h5 file (see above). If the given file contains the spectrum chain, the code automatically load it in the instance (so that you don't have to run `load_spectra` feeding the `from_file` argument with the file)."
   ]
  },
  {
   "cell_type": "markdown",
   "metadata": {},
   "source": [
    "Let's have a quick look at the spectrum chain:"
   ]
  },
  {
   "cell_type": "code",
   "execution_count": null,
   "metadata": {},
   "outputs": [],
   "source": [
    "prosp_spec.spec_chain"
   ]
  },
  {
   "cell_type": "markdown",
   "metadata": {},
   "source": [
    "We are now ready to plot the resulting SED, using the `show` method.<br>\n",
    "I let you check on the argument descriptions thanks to the docstring. Just know that the values we give in the next cell are the default ones (meaning that `prosp_spec.show()` will give the same plot). We just want to let here an easy access to each one of them to let you modify them as you wish.<br>\n",
    "It can take a bit of time, depending on the `unit` and the `restframe` choices and on which quantities are plotted, because of the treatment of the whole chains data.<br>\n",
    "This method returns a dictionary containing the `matplotlib.figure.Figure` (key: `fig`) and the `matplotlib.axes._axes.Axes` (key: `ax`).<br>\n",
    "Once again, you can save the figure giving a file name or directory to `savefile` argument."
   ]
  },
  {
   "cell_type": "code",
   "execution_count": null,
   "metadata": {
    "scrolled": false
   },
   "outputs": [],
   "source": [
    "unit = \"Hz\"\n",
    "lbda_lim = (1e3, 1e5)\n",
    "restframe = False\n",
    "filters = None\n",
    "\n",
    "ax = None\n",
    "figsize=(10,6)\n",
    "ax_rect=[0.1, 0.2, 0.8, 0.7]\n",
    "set_logx, set_logy = True, True\n",
    "savefile = None\n",
    "\n",
    "spec_prop = {\"c\":\"k\", \"lw\":0.5, \"zorder\":4}\n",
    "spec_unc_prop = {\"color\":\"0.7\", \"alpha\":0.35, \"lw\":0, \"zorder\":2}\n",
    "phot_prop = {\"marker\":\"o\", \"s\":60, \"fc\":\"xkcd:azure\", \"ec\":\"b\", \"zorder\":6}\n",
    "phot_unc_prop = {\"marker\":\"\", \"ls\":\"None\", \"ecolor\":\"C0\", \"zorder\":5}\n",
    "show_obs = {\"marker\":\"s\", \"ms\":7, \"ls\":\"None\", \"mfc\":\"r\", \"mec\":\"b\", \"ecolor\":\"0.7\", \"zorder\":4}\n",
    "show_legend = {\"loc\":\"best\", \"frameon\":False, \"labelspacing\":0.8}\n",
    "show_filters = {\"lw\":1.5, \"color\":\"gray\", \"alpha\":0.7, \"zorder\":1}\n",
    "\n",
    "fig, ax = prosp_spec.show(ax=ax, figsize=figsize, ax_rect=ax_rect, unit=unit, restframe=restframe, \n",
    "                          lbda_lim=lbda_lim, spec_prop=spec_prop, spec_unc_prop=spec_unc_prop, \n",
    "                          filters=filters, phot_prop=phot_prop, phot_unc_prop=phot_unc_prop, \n",
    "                          show_obs=show_obs, show_legend=show_legend, set_logx=set_logx, set_logy=set_logy, \n",
    "                          show_filters=show_filters, savefile=savefile).values()"
   ]
  },
  {
   "cell_type": "markdown",
   "metadata": {},
   "source": [
    "## K-corrected photometry"
   ]
  },
  {
   "cell_type": "markdown",
   "metadata": {},
   "source": [
    "`pyprosp` has a basic process to get the restframed SED and extract photometry from it, which allow the user to get k-corrected photometry.\n",
    "\n",
    "We can recover photometric data from the SED thanks to the `get_phot_data` method. It accepts as arguments:\n",
    "- `filters`: list of filter choices for which to get photometric data (check docstring for specific inputs, like `None` in the the next cell, giving the photometry for every filters given by the user as in the very beginning of this notebook)\n",
    "- `restframe`: choose here if you want to restframe the SED (`True`) or not (`False`) before the photometry extracting, defining if it will be k-corrected or not resp.\n",
    "- `exp`: exposant for the redshift flux dilution applied on SED in erg/s/cm2/AA (meaning that the SED flux is multiplied by $(1 + z)^{\\textrm{exp}}$)\n",
    "- `unit`: unit of the returned photometry\n",
    "- `plot_format`: option on the returned dictionary format (set `False` for a user friendly format)\n",
    "\n",
    "*Note: there is a similar function to get spectral data --> `get_spectral_data`.*"
   ]
  },
  {
   "cell_type": "code",
   "execution_count": null,
   "metadata": {},
   "outputs": [],
   "source": [
    "phot_data = prosp_spec.get_phot_data(filters=None, restframe=True, exp=3, unit=\"mag\", plot_format=False)\n",
    "pprint(phot_data)"
   ]
  },
  {
   "cell_type": "markdown",
   "metadata": {},
   "source": [
    "## Physical parameters"
   ]
  },
  {
   "cell_type": "code",
   "execution_count": null,
   "metadata": {},
   "outputs": [],
   "source": [
    "from pyprosp import phys_params"
   ]
  },
  {
   "cell_type": "markdown",
   "metadata": {},
   "source": [
    "Finally, let's extract the resulting physical parameters. Once again, there are two ways of doing so:\n",
    "- you can recover it as an attibute of the present instance\n",
    "- you can buiild it from a .h5 file (just like above reading file to build a `Prospector` instance)\n",
    "\n",
    "We will work on a `ProspectorPhysParams` instance:"
   ]
  },
  {
   "cell_type": "code",
   "execution_count": null,
   "metadata": {},
   "outputs": [],
   "source": [
    "# Either recover the spectrum with:\n",
    "# prosp_phys_params = prosp_h5.phys_params\n",
    "\n",
    "# or with:\n",
    "prosp_phys_params = phys_params.ProspectorPhysParams.from_h5(f\"tutorial_{h5_choice}.h5\", warnings=True)"
   ]
  },
  {
   "cell_type": "markdown",
   "metadata": {},
   "source": [
    "Let's have a look at all available physical parameters."
   ]
  },
  {
   "cell_type": "code",
   "execution_count": null,
   "metadata": {},
   "outputs": [],
   "source": [
    "prosp_phys_params.describe_phys_params()"
   ]
  },
  {
   "cell_type": "markdown",
   "metadata": {},
   "source": [
    "You can easily get the above available physical parameters running `get_phys_params`. As it is said above, you can either give as argument one or a list of keys, or \"\\*\" (\"all\" also works) to get all of them. The method returns a dictionary containing, for each desired parameter, a tuple with the chain median, one sigma bellow it and one sigma above.\n",
    "\n",
    "*Note: the physical parameters are \"availble\" if the fitted model does include the needed parameters to extract them.*\n",
    "\n",
    "A few optionnal arguments:\n",
    "- `reset`: if `True`, empty the stored physical parameters (if any) before to extract the desired ones. Else, simply update/add them.\n",
    "- `warnings`: print warning messages if there's any, noticing some anomalies but without breaking the code"
   ]
  },
  {
   "cell_type": "code",
   "execution_count": null,
   "metadata": {},
   "outputs": [],
   "source": [
    "prosp_phys_params.get_phys_params(params=\"*\", reset=False, warnings=True)"
   ]
  },
  {
   "cell_type": "markdown",
   "metadata": {},
   "source": [
    "In addition, you can get the physical parameter chains with the attribute `phys_params_chains`.\n",
    "\n",
    "One last thing is that you can get the corner plot of these physical parameters with `show`.<br>\n",
    "You can choose which parameters to plot, or let all of them be plotted (just like above, giving \"\\*\" or \"all\").<br>\n",
    "As for every previous figures,you can save it giving a file name or directory to `savefile` argument.<br>\n",
    "In addition, `show` can take every `corner` extra arguments (as for this example where we set the figure size)."
   ]
  },
  {
   "cell_type": "code",
   "execution_count": null,
   "metadata": {
    "scrolled": false
   },
   "outputs": [],
   "source": [
    "params = [\"log_mass\", \"log_sfr\", \"log_ssfr\", \"log_zsol\", \"tage\", \"tau\", \"dust2\"]\n",
    "_ = prosp_phys_params.show(params=params, savefile=None, fig=plt.subplots(7,7,figsize=(12,12))[0])"
   ]
  },
  {
   "cell_type": "code",
   "execution_count": null,
   "metadata": {},
   "outputs": [],
   "source": []
  }
 ],
 "metadata": {
  "kernelspec": {
   "display_name": "Python 3",
   "language": "python",
   "name": "python3"
  },
  "language_info": {
   "codemirror_mode": {
    "name": "ipython",
    "version": 3
   },
   "file_extension": ".py",
   "mimetype": "text/x-python",
   "name": "python",
   "nbconvert_exporter": "python",
   "pygments_lexer": "ipython3",
   "version": "3.7.9"
  }
 },
 "nbformat": 4,
 "nbformat_minor": 4
}
