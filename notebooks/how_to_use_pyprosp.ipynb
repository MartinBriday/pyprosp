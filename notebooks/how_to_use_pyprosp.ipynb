{
 "cells": [
  {
   "cell_type": "code",
   "execution_count": 1,
   "metadata": {},
   "outputs": [],
   "source": [
    "%matplotlib notebook\n",
    "import numpy as np\n",
    "import pandas\n",
    "import matplotlib.pyplot as plt\n",
    "import os"
   ]
  },
  {
   "cell_type": "markdown",
   "metadata": {},
   "source": [
    "Let's import the SED fitting code which use `prospector` package."
   ]
  },
  {
   "cell_type": "code",
   "execution_count": 2,
   "metadata": {},
   "outputs": [],
   "source": [
    "from pyprosp import prospector"
   ]
  },
  {
   "cell_type": "markdown",
   "metadata": {},
   "source": [
    "# Data"
   ]
  },
  {
   "cell_type": "markdown",
   "metadata": {},
   "source": [
    "For this tutorial, we will fit the SED based on some photometric measurements.<br>\n",
    "What's important with input data is the names you give:\n",
    "\n",
    "- measurements must be on the format \"instrument.band\" (e.g. sdss.u, ps1.g, ...)\n",
    "- uncertainties must be on the format \"instrument.band.err\" (e.g. sdss.u.err, ps1.g.err, ...)\n",
    "\n",
    "The measurement uncertainties are necessary for the code to automatically recognize the filters used.<br>\n",
    "Here we set a `pandas.Series` with data, as it could come from a `pandas.DataFrame` in a loop, but it also works with a dictionary.\n",
    "\n",
    "These data are coming from \"Johnson et al. 2013\", the studied galaxy is \"NGC4163\", measured in maggies."
   ]
  },
  {
   "cell_type": "code",
   "execution_count": 3,
   "metadata": {},
   "outputs": [
    {
     "data": {
      "text/plain": [
       "SN_name              NGC4163\n",
       "zcmb                0.000551\n",
       "GALEX.FUV        5.91562e-08\n",
       "GALEX.FUV.err    5.91562e-09\n",
       "GALEX.NUV        8.87156e-08\n",
       "GALEX.NUV.err    8.87156e-09\n",
       "sdss.u           2.22844e-07\n",
       "sdss.u.err       2.22844e-08\n",
       "sdss.g           4.87528e-07\n",
       "sdss.g.err       4.87528e-08\n",
       "sdss.r           6.98232e-07\n",
       "sdss.r.err       6.98232e-08\n",
       "sdss.i           8.79023e-07\n",
       "sdss.i.err       8.79023e-08\n",
       "sdss.z           9.46237e-07\n",
       "sdss.z.err       9.46237e-08\n",
       "Spitzer.1        4.32514e-07\n",
       "Spitzer.1.err    4.32514e-08\n",
       "Spitzer.2        2.80543e-07\n",
       "Spitzer.2.err    2.80543e-08\n",
       "Spitzer.3        1.95884e-07\n",
       "Spitzer.3.err    1.95884e-08\n",
       "Spitzer.4         1.2942e-07\n",
       "Spitzer.4.err     1.2942e-08\n",
       "dtype: object"
      ]
     },
     "execution_count": 3,
     "metadata": {},
     "output_type": "execute_result"
    }
   ],
   "source": [
    "data = {\"SN_name\":\"NGC4163\",\n",
    "        \"zcmb\":0.000551,\n",
    "        \"GALEX.FUV\":5.91561634e-08, \n",
    "        \"GALEX.FUV.err\":5.91561634e-09, \n",
    "        \"GALEX.NUV\":8.87156012e-08, \n",
    "        \"GALEX.NUV.err\":8.87156012e-09, \n",
    "        \"sdss.u\":2.22843515e-07,\n",
    "        \"sdss.u.err\":2.22843515e-08,\n",
    "        \"sdss.g\":4.87528490e-07,\n",
    "        \"sdss.g.err\":4.87528490e-08,\n",
    "        \"sdss.r\":6.98232404e-07,\n",
    "        \"sdss.r.err\":6.98232404e-08,\n",
    "        \"sdss.i\":8.79022517e-07,\n",
    "        \"sdss.i.err\":8.79022517e-08,\n",
    "        \"sdss.z\":9.46237161e-07,\n",
    "        \"sdss.z.err\":9.46237161e-08, \n",
    "        \"Spitzer.1\":4.32513831e-07, \n",
    "        \"Spitzer.1.err\":4.32513831e-08, \n",
    "        \"Spitzer.2\":2.80543364e-07, \n",
    "        \"Spitzer.2.err\":2.80543364e-08, \n",
    "        \"Spitzer.3\":1.95884467e-07, \n",
    "        \"Spitzer.3.err\":1.95884467e-08, \n",
    "        \"Spitzer.4\":1.29419584e-07, \n",
    "        \"Spitzer.4.err\":1.29419584e-08, \n",
    "        }\n",
    "\n",
    "data = pandas.Series(data)\n",
    "data"
   ]
  },
  {
   "cell_type": "markdown",
   "metadata": {},
   "source": [
    "# Prospector SED fitting"
   ]
  },
  {
   "cell_type": "markdown",
   "metadata": {},
   "source": [
    "### Initialization"
   ]
  },
  {
   "cell_type": "markdown",
   "metadata": {},
   "source": [
    "Now that we have data to work with, let's build a `prospector` object."
   ]
  },
  {
   "cell_type": "code",
   "execution_count": 4,
   "metadata": {},
   "outputs": [],
   "source": [
    "prosp = prospector.Prospector()"
   ]
  },
  {
   "cell_type": "markdown",
   "metadata": {},
   "source": [
    "Prospector can work either with measured photometry or spectrum (or with both).<br>\n",
    "Here we give the data we constructed above (`phot=data`). Note that no matter there are some additional informations in these data, the code ignore them, only photometry is managed (with the constraints on name format highlighted above).<br>\n",
    "We let `spec` to None (`spec=None`, default value).\n",
    "We inform the code of the measurement unit (`unit=\"mgy\"`). Note that there are other available units treated by the code:\n",
    "- \"Hz\": erg/s/cm2/Hz\n",
    "- \"AA\": erg/s/cm2/AA\n",
    "- \"mgy\": maggies\n",
    "- \"Jy\": Jansky\n",
    "- \"mag\": magnitudes\n",
    "\n",
    "This unit defines the your measurements in general, whether you give photometry or spectrometry. However if you give both, you cannot define a different unit for each one. They must be in the same unit.\n",
    "\n",
    "The builder also accept a redshift value to fix it in the SED fitting. If `z` is set to None, the redshift becomes a free parameter for the fit.<br>\n",
    "Finally, you can optionally give an object name."
   ]
  },
  {
   "cell_type": "code",
   "execution_count": 5,
   "metadata": {},
   "outputs": [],
   "source": [
    "prosp.set_data(phot=data, spec=None, unit=\"mgy\", z=data.zcmb, name=data.SN_name)\n",
    "\n",
    "# Can be executed directly in the builder:\n",
    "# prosp = prospector.Prospector(phot=data, spec=None, unit=\"mgy\", z=data.zcmb, name=data.SN_name)"
   ]
  },
  {
   "cell_type": "markdown",
   "metadata": {},
   "source": [
    "`prospector` needs now three specific objects to be built: \n",
    "- the `obs` containing every measurements\n",
    "- the `model` synthesizing the parameters defining the SED model. The free paramters of the model will be fitted during SED fitting.\n",
    "- the `sps` refering to the Stellar Population Synthesis, calling FSPS procedures.\n",
    "\n",
    "It doesn't matter in which order you build `obs` and `model`, but `sps` has to be built after the `model` (because it depends on the paramters implemented in the `model`)."
   ]
  },
  {
   "cell_type": "markdown",
   "metadata": {},
   "source": [
    "### Build `obs`"
   ]
  },
  {
   "cell_type": "markdown",
   "metadata": {},
   "source": [
    "Firstly, let's build the `obs` object, which basically is a dictionary formatted to be used in `prospector`.\n",
    "\n",
    "In this example, we are working with photometry. We may want to avoid some filter measurements during the SED fitting. This can be done by giving a list of filters to be used for the fit to `phot_mask` argument (there is an example in next cell in comment). Filters must be on the format \"instrument.band\" (e.g. sdss.u, ps1.g, ...).\n",
    "\n",
    "A few options allow to print some user messages:\n",
    "- `verbose`: print the built `obs` dictionary (default is False)\n",
    "- `warning`: print warning messages if there's any, noticing some anomalies but without breaking the code\n",
    "\n",
    "In addition of this example, if you are working on spectroscopy, you can also apply a mask on the measured spectrum by giving limits to `spec_mask` argument in Angstroms (a few examples below).\n",
    "\n",
    "Finally, if you already have an `obs` prospector compatible dictionary, you can give it in `obs` argument. In this case, `set_data` allow you to choose if you want to save the data from this dictionary in your instance's attributes."
   ]
  },
  {
   "cell_type": "code",
   "execution_count": 6,
   "metadata": {},
   "outputs": [
    {
     "name": "stdout",
     "output_type": "stream",
     "text": [
      "\n",
      "#===============#\n",
      "#   Built obs   #\n",
      "#===============#\n",
      "\n",
      "{'filternames': ['galex_FUV',\n",
      "                 'galex_NUV',\n",
      "                 'sdss_u0',\n",
      "                 'sdss_g0',\n",
      "                 'sdss_r0',\n",
      "                 'sdss_i0',\n",
      "                 'sdss_z0',\n",
      "                 'spitzer_irac_ch1',\n",
      "                 'spitzer_irac_ch2',\n",
      "                 'spitzer_irac_ch3',\n",
      "                 'spitzer_irac_ch4'],\n",
      " 'filters': [<class 'sedpy.observate.Filter'>(galex_FUV),\n",
      "             <class 'sedpy.observate.Filter'>(galex_NUV),\n",
      "             <class 'sedpy.observate.Filter'>(sdss_u0),\n",
      "             <class 'sedpy.observate.Filter'>(sdss_g0),\n",
      "             <class 'sedpy.observate.Filter'>(sdss_r0),\n",
      "             <class 'sedpy.observate.Filter'>(sdss_i0),\n",
      "             <class 'sedpy.observate.Filter'>(sdss_z0),\n",
      "             <class 'sedpy.observate.Filter'>(spitzer_irac_ch1),\n",
      "             <class 'sedpy.observate.Filter'>(spitzer_irac_ch2),\n",
      "             <class 'sedpy.observate.Filter'>(spitzer_irac_ch3),\n",
      "             <class 'sedpy.observate.Filter'>(spitzer_irac_ch4)],\n",
      " 'logify_spectrum': False,\n",
      " 'maggies': array([5.91561634e-08, 8.87156012e-08, 2.22843515e-07, 4.87528490e-07,\n",
      "       6.98232404e-07, 8.79022517e-07, 9.46237161e-07, 4.32513831e-07,\n",
      "       2.80543364e-07, 1.95884467e-07, 1.29419584e-07]),\n",
      " 'maggies_unc': array([5.91561634e-09, 8.87156012e-09, 2.22843515e-08, 4.87528490e-08,\n",
      "       6.98232404e-08, 8.79022517e-08, 9.46237161e-08, 4.32513831e-08,\n",
      "       2.80543364e-08, 1.95884467e-08, 1.29419584e-08]),\n",
      " 'name': 'NGC4163',\n",
      " 'ndof': 11,\n",
      " 'phot_mask': array([ True,  True,  True,  True,  True,  True,  True,  True,  True,\n",
      "        True,  True]),\n",
      " 'spectrum': None,\n",
      " 'unc': None,\n",
      " 'wavelength': None,\n",
      " 'zspec': 0.000551}\n"
     ]
    }
   ],
   "source": [
    "# Example of photometric mask:\n",
    "# phot_mask = [\"sdss.u\", \"sdss.g\", \"sdss.r\", \"sdss.i\", \"sdss.z\"]\n",
    "\n",
    "# Examples of spectroscopic masks:\n",
    "# spec_mask = None ; (None, None) ; (1000, None) ; (1e3, 1e5) ; ...\n",
    "\n",
    "prosp.build_obs(phot_mask=None, verbose=True, warnings=True)#, spec_mask=(None, None), obs=None, set_data=False)"
   ]
  },
  {
   "cell_type": "markdown",
   "metadata": {},
   "source": [
    "### Build `model`"
   ]
  },
  {
   "cell_type": "markdown",
   "metadata": {},
   "source": [
    "This is the trickiest part of the initialization as there are a lot of possibilities highly impacting the SED fitting.\n",
    "\n",
    "The `model` stores every paramters defining the model which will fit the data.<br>\n",
    "Before any treatment, the input parameters are dictionaries including some specific keys:\n",
    "- `name`: the parameter's name\n",
    "- `N`: parameter's length (vector parameters are possible)\n",
    "- `init`: the initial value\n",
    "- `isfree`: a boolean defining the parameter to free (for SED fitting) or fixed to the `init` value\n",
    "\n",
    "If the parameter is free (`isfree=True`), you finally need to define:\n",
    "- `prior`: the prior probability to apply to the parameter during SED fitting\n",
    "\n",
    "There are a few other optionnal parameters, like:\n",
    "- `units`: unit of the parameter\n",
    "- `init_disp`: the initial dispersion to use when generating clouds of emcee \"walkers\"\n",
    "- `disp_floor`: the minimum dispersion to use when generating clouds of emcee \"walkers\".\n",
    "\n",
    "\n",
    "Here is an example (creating a model with only a \"stellar mass\" like parameter):"
   ]
  },
  {
   "cell_type": "code",
   "execution_count": 7,
   "metadata": {},
   "outputs": [],
   "source": [
    "model_tuto = {\"mass_tuto\":{\"N\": 1,\n",
    "                           \"isfree\": True,\n",
    "                           \"init\": 1e8,\n",
    "                           \"prior\": dict(name=\"LogUniform\", mini=1e6, maxi=1e12),\n",
    "                           \"init_disp\": 1e6, \n",
    "                           \"disp_floor\": 1e6, \n",
    "                           \"units\": \"solar masses formed\"}, \n",
    "              # ... : {...}, \n",
    "              }\n",
    "\n",
    "# Could also be: \n",
    "# model_tuto = [{\"name\":\"mass_tuto\", \n",
    "#                \"N\": 1,\n",
    "#                \"isfree\": True,\n",
    "#                \"init\": 1e8,\n",
    "#                \"prior\": dict(name=\"LogUniform\", mini=1e6, maxi=1e12),\n",
    "#                \"init_disp\": 1e6, \n",
    "#                \"disp_floor\": 1e6, \n",
    "#                \"units\": \"solar masses formed\"}, \n",
    "#               {...}, \n",
    "#              ]"
   ]
  },
  {
   "cell_type": "markdown",
   "metadata": {},
   "source": [
    "About priors, the code will automatically build an appropriate prior instance based on a dictionary containing every needed arguments.\n",
    "\n",
    "In the parameter `mass_tuto`, `prior = dict(name=\"LogUniform\", mini=1e6, maxi=1e12)`. You can get more informations from this stuff with:"
   ]
  },
  {
   "cell_type": "code",
   "execution_count": 8,
   "metadata": {},
   "outputs": [
    {
     "name": "stdout",
     "output_type": "stream",
     "text": [
      "\n",
      "#========================#\n",
      "#   Prior descriptions   #\n",
      "#========================#\n",
      "\n",
      "Available priors: TopHat, Normal, ClippedNormal, LogNormal, LogUniform, Beta, StudentT, SkewNormal.\n",
      "\n",
      "(Required arguments must be included in addition with the 'name' argument in a dictionary to correctly build the prior, \n",
      " for example, try to describe 'priors={'name':'Normal', 'mean':0., 'sigma':1.}').\n",
      "\n",
      "\n",
      "+----------------+\n",
      "|   LogUniform   |\n",
      "+----------------+\n",
      "\n",
      "Like log-normal, but the distribution of natural log of the variable is\n",
      "    distributed uniformly instead of normally.\n",
      "\n",
      "    - mini: (your input is: 1000000.0)\n",
      "        Minimum of the distribution\n",
      "\n",
      "    - maxi: (your input is: 1000000000000.0)\n",
      "        Maximum of the distribution\n",
      "    \n"
     ]
    }
   ],
   "source": [
    "# prosp.describe_priors(\"LogUniform\")\n",
    "prosp.describe_priors(dict(name=\"LogUniform\", mini=1e6, maxi=1e12))\n",
    "\n",
    "# If you want to print every avalaible prior informations, run: \n",
    "# prosp.describe_priors(\"*\")"
   ]
  },
  {
   "cell_type": "markdown",
   "metadata": {},
   "source": [
    "However, instead of building a model from scratch by hand, `prospector` propose a set of pre-packaged parameter sets.\n",
    "\n",
    "You can have a look at them with:"
   ]
  },
  {
   "cell_type": "code",
   "execution_count": 9,
   "metadata": {},
   "outputs": [
    {
     "name": "stdout",
     "output_type": "stream",
     "text": [
      "\n",
      "#=========================#\n",
      "#   Availbale templates   #\n",
      "#=========================#\n",
      "\n",
      "'type_defaults':\n",
      "  Explicitly sets dust amd IMF types.\n",
      "'ssp':\n",
      "  Basic set of (free) parameters for a delta function SFH\n",
      "'parametric_sfh':\n",
      "  Basic set of (free) parameters for a delay-tau SFH.\n",
      "'dust_emission':\n",
      "  The set of (fixed) dust emission parameters.\n",
      "'nebular':\n",
      "  The set of nebular emission parameters, with gas_logz tied to stellar logzsol.\n",
      "'nebular_marginalization':\n",
      "  Marginalize over emission amplitudes line contained inthe observed spectrum\n",
      "'fit_eline_redshift':\n",
      "  Fit for the redshift of the emission lines separatelyfrom the stellar redshift\n",
      "'outlier_model':\n",
      "  The set of outlier (mixture) models for spectroscopy and photometry\n",
      "'agn':\n",
      "  The set of (fixed) AGN dusty torus emission parameters.\n",
      "'igm':\n",
      "  The set of (fixed) IGM absorption parameters.\n",
      "'spectral_smoothing':\n",
      "  Set of parameters for spectal smoothing.\n",
      "'optimize_speccal':\n",
      "  Set of parameters (most of which are fixed) for optimizing a polynomial calibration vector.\n",
      "'fit_speccal':\n",
      "  Set of parameters (most of which are free) for sampling the coefficients of a polynomial calibration vector.\n",
      "'burst_sfh':\n",
      "  The set of (fixed) parameters for an SF burst added to a parameteric SFH, with the burst time controlled by `fage_burst`.\n",
      "'logm_sfh':\n",
      "  Non-parameteric SFH fitting for log-mass in fixed time bins\n",
      "'continuity_sfh':\n",
      "  Non-parameteric SFH fitting for mass in fixed time bins with a smoothness prior\n",
      "'continuity_flex_sfh':\n",
      "  Non-parameteric SFH fitting for mass in flexible time bins with a smoothness prior\n",
      "'dirichlet_sfh':\n",
      "  Non-parameteric SFH with Dirichlet prior (fractional SFR)\n",
      "'alpha':\n",
      "  The prospector-alpha model, Leja et al. 2017\n",
      "\n",
      "\n",
      "\n",
      "#===========================#\n",
      "#   Template descriptions   #\n",
      "#===========================#\n",
      "\n",
      "+--------------------+\n",
      "|   parametric_sfh   |\n",
      "+--------------------+\n",
      "Free Parameters: (name: prior) \n",
      "-----------\n",
      "  mass: <class 'prospect.models.priors.LogUniform'>(mini=100000000.0,maxi=1000000000000.0)\n",
      "  logzsol: <class 'prospect.models.priors.TopHat'>(mini=-2,maxi=0.19)\n",
      "  dust2: <class 'prospect.models.priors.TopHat'>(mini=0.0,maxi=2.0)\n",
      "  tage: <class 'prospect.models.priors.TopHat'>(mini=0.001,maxi=13.8)\n",
      "  tau: <class 'prospect.models.priors.LogUniform'>(mini=0.1,maxi=30)\n",
      "\n",
      "Fixed Parameters: (name: value [, depends_on]) \n",
      "-----------\n",
      "  zred: 0.1 \n",
      "  sfh: 4 \n",
      "  imf_type: 2 \n",
      "  dust_type: 0 \n",
      "\n",
      "\n",
      "+-------------------+\n",
      "|   dust_emission   |\n",
      "+-------------------+\n",
      "Free Parameters: (name: prior) \n",
      "-----------\n",
      "  \n",
      "\n",
      "Fixed Parameters: (name: value [, depends_on]) \n",
      "-----------\n",
      "  add_dust_emission: True \n",
      "  duste_umin: 1.0 \n",
      "  duste_qpah: 4.0 \n",
      "  duste_gamma: 0.001 \n",
      "\n",
      "\n"
     ]
    }
   ],
   "source": [
    "# You can have a full description of every templates with:\n",
    "# prosp.describe_templates(\"*\")\n",
    "\n",
    "# We will limit the print length with the description of the two templates we'll use:\n",
    "prosp.describe_templates([\"parametric_sfh\", \"dust_emission\"])"
   ]
  },
  {
   "cell_type": "markdown",
   "metadata": {},
   "source": [
    "With all these elements, let's now build the `model`.<br>\n",
    "Once again, the instance method `build_model` includes a few arguments.\n",
    "- `model`: if you created your own model you can add it here (with our example, we add `model_tuto` and see below how to remove it)\n",
    "- `templates`: here you can give one or a list of template names to build the model. be careful of the order of the names in the list, because the code is using `dict.update` function in the order of the list.\n",
    "- `describe`: print the description of the priors from the given model (if any) and the given templates (if any).\n",
    "- `verbose`: print the built `model`\n",
    "\n",
    "The code starts to build the model with the given one, and then update it with the given templates (if any). If no initial model is given (thus only templates), it starts from the first given template, and then update it with the following ones."
   ]
  },
  {
   "cell_type": "code",
   "execution_count": 10,
   "metadata": {},
   "outputs": [
    {
     "name": "stdout",
     "output_type": "stream",
     "text": [
      "\n",
      "#=================#\n",
      "#   Built model   #\n",
      "#=================#\n",
      "\n",
      "{'add_dust_emission': {'N': 1, 'init': True, 'isfree': False},\n",
      " 'dust2': {'N': 1,\n",
      "           'init': 0.6,\n",
      "           'isfree': True,\n",
      "           'prior': <class 'prospect.models.priors.TopHat'>(mini=0.0,maxi=2.0),\n",
      "           'units': 'optical depth at 5500AA'},\n",
      " 'dust_type': {'N': 1, 'init': 0, 'isfree': False},\n",
      " 'duste_gamma': {'N': 1,\n",
      "                 'init': 0.001,\n",
      "                 'isfree': False,\n",
      "                 'prior': <class 'prospect.models.priors.LogUniform'>(mini=0.001,maxi=0.15),\n",
      "                 'units': 'Mass fraction of dust in high radiation intensity.'},\n",
      " 'duste_qpah': {'N': 1,\n",
      "                'init': 4.0,\n",
      "                'isfree': False,\n",
      "                'prior': <class 'prospect.models.priors.TopHat'>(mini=0.5,maxi=7.0),\n",
      "                'units': 'Percent mass fraction of PAHs in dust.'},\n",
      " 'duste_umin': {'N': 1,\n",
      "                'init': 1.0,\n",
      "                'isfree': False,\n",
      "                'prior': <class 'prospect.models.priors.TopHat'>(mini=0.1,maxi=25),\n",
      "                'units': 'MMP83 local MW intensity'},\n",
      " 'imf_type': {'N': 1, 'init': 2, 'isfree': False},\n",
      " 'logzsol': {'N': 1,\n",
      "             'init': -0.5,\n",
      "             'isfree': True,\n",
      "             'prior': <class 'prospect.models.priors.TopHat'>(mini=-2,maxi=0.19),\n",
      "             'units': '$\\\\log (Z/Z_\\\\odot)$'},\n",
      " 'mass': {'N': 1,\n",
      "          'init': 10000000000.0,\n",
      "          'isfree': True,\n",
      "          'prior': <class 'prospect.models.priors.LogUniform'>(mini=100000000.0,maxi=1000000000000.0),\n",
      "          'units': 'Solar masses formed'},\n",
      " 'mass_tuto': {'N': 1,\n",
      "               'disp_floor': 1000000.0,\n",
      "               'init': 100000000.0,\n",
      "               'init_disp': 1000000.0,\n",
      "               'isfree': True,\n",
      "               'prior': <class 'prospect.models.priors.LogUniform'>(mini=1000000.0,maxi=1000000000000.0),\n",
      "               'units': 'solar masses formed'},\n",
      " 'sfh': {'N': 1, 'init': 4, 'isfree': False, 'units': 'FSPS index'},\n",
      " 'tage': {'N': 1,\n",
      "          'init': 1,\n",
      "          'isfree': True,\n",
      "          'prior': <class 'prospect.models.priors.TopHat'>(mini=0.001,maxi=13.8),\n",
      "          'units': 'Gyr'},\n",
      " 'tau': {'N': 1,\n",
      "         'init': 1,\n",
      "         'isfree': True,\n",
      "         'prior': <class 'prospect.models.priors.LogUniform'>(mini=0.1,maxi=30),\n",
      "         'units': 'Gyr^{-1}'},\n",
      " 'zred': {'N': 1,\n",
      "          'init': 0.000551,\n",
      "          'isfree': False,\n",
      "          'prior': <class 'prospect.models.priors.TopHat'>(mini=0.0,maxi=4.0),\n",
      "          'units': 'redshift'}}\n"
     ]
    }
   ],
   "source": [
    "prosp.build_model(model=model_tuto, templates=[\"parametric_sfh\", \"dust_emission\"], describe=False, verbose=True)"
   ]
  },
  {
   "cell_type": "markdown",
   "metadata": {},
   "source": [
    "Once the model is built, we can still modify it, using `modify_model`.\n",
    "\n",
    "In this example, we built the model from a handly made one with a tutorial parameter `mass_tuto`. In practical, templates already include a well defined stellar mass parameter (in some of the templates, it even depends on other parameters...). Thus, here, we want to remove `mass_tuto` from the model. We can do that giving a list of parameters to remove from the model to the `removings` argument.\n",
    "\n",
    "*Note: One could say that we could run again the previous cell without giving `model_tuto`to `model` argument. Indeed, but we want here to show the possiblities of the code...*\n",
    "\n",
    "Additionaly, depending on the object we are studying, we may want to change the prior probability for some of the parameters, or the initial value, etc. This can be done giving a dictionary very similar to the model creation (see `model_tuto` creation), but only containing parameters with new values. Then, the code applies the changes giving this dictionary to the `changes` argument.\n",
    "\n",
    "*Note: Two important things coming with the `changes` argument: if there is one (or more) parameter in the given dictionary not existing yet in the model, the code add it to the model ; if there is one (or more) key in one parameter of the given dictionary not existing yet in the same parameter from the model, the code add it to the model.*\n",
    "\n",
    "The code apply changes before the removings...\n",
    "\n",
    "Here again, a few more arguments:\n",
    "- `describe`: print the description of the priors from the given changes (if any).\n",
    "- `verbose`: print the previous `model` and the final modified one.\n",
    "- `warnings`: print warning messages if there's any, noticing some anomalies but without breaking the code"
   ]
  },
  {
   "cell_type": "code",
   "execution_count": 11,
   "metadata": {
    "scrolled": false
   },
   "outputs": [
    {
     "name": "stdout",
     "output_type": "stream",
     "text": [
      "\n",
      "#====================#\n",
      "#   Previous model   #\n",
      "#====================#\n",
      "\n",
      "{'add_dust_emission': {'N': 1,\n",
      "                       'init': True,\n",
      "                       'isfree': False,\n",
      "                       'name': 'add_dust_emission'},\n",
      " 'dust2': {'N': 1,\n",
      "           'init': 0.6,\n",
      "           'isfree': True,\n",
      "           'name': 'dust2',\n",
      "           'prior': <class 'prospect.models.priors.TopHat'>(mini=0.0,maxi=2.0),\n",
      "           'units': 'optical depth at 5500AA'},\n",
      " 'dust_type': {'N': 1, 'init': 0, 'isfree': False, 'name': 'dust_type'},\n",
      " 'duste_gamma': {'N': 1,\n",
      "                 'init': 0.001,\n",
      "                 'isfree': False,\n",
      "                 'name': 'duste_gamma',\n",
      "                 'prior': <class 'prospect.models.priors.LogUniform'>(mini=0.001,maxi=0.15),\n",
      "                 'units': 'Mass fraction of dust in high radiation intensity.'},\n",
      " 'duste_qpah': {'N': 1,\n",
      "                'init': 4.0,\n",
      "                'isfree': False,\n",
      "                'name': 'duste_qpah',\n",
      "                'prior': <class 'prospect.models.priors.TopHat'>(mini=0.5,maxi=7.0),\n",
      "                'units': 'Percent mass fraction of PAHs in dust.'},\n",
      " 'duste_umin': {'N': 1,\n",
      "                'init': 1.0,\n",
      "                'isfree': False,\n",
      "                'name': 'duste_umin',\n",
      "                'prior': <class 'prospect.models.priors.TopHat'>(mini=0.1,maxi=25),\n",
      "                'units': 'MMP83 local MW intensity'},\n",
      " 'imf_type': {'N': 1, 'init': 2, 'isfree': False, 'name': 'imf_type'},\n",
      " 'logzsol': {'N': 1,\n",
      "             'init': -0.5,\n",
      "             'isfree': True,\n",
      "             'name': 'logzsol',\n",
      "             'prior': <class 'prospect.models.priors.TopHat'>(mini=-2,maxi=0.19),\n",
      "             'units': '$\\\\log (Z/Z_\\\\odot)$'},\n",
      " 'mass': {'N': 1,\n",
      "          'init': 10000000000.0,\n",
      "          'isfree': True,\n",
      "          'name': 'mass',\n",
      "          'prior': <class 'prospect.models.priors.LogUniform'>(mini=100000000.0,maxi=1000000000000.0),\n",
      "          'units': 'Solar masses formed'},\n",
      " 'mass_tuto': {'N': 1,\n",
      "               'disp_floor': 1000000.0,\n",
      "               'init': 100000000.0,\n",
      "               'init_disp': 1000000.0,\n",
      "               'isfree': True,\n",
      "               'name': 'mass_tuto',\n",
      "               'prior': <class 'prospect.models.priors.LogUniform'>(mini=1000000.0,maxi=1000000000000.0),\n",
      "               'units': 'solar masses formed'},\n",
      " 'sfh': {'N': 1,\n",
      "         'init': 4,\n",
      "         'isfree': False,\n",
      "         'name': 'sfh',\n",
      "         'units': 'FSPS index'},\n",
      " 'tage': {'N': 1,\n",
      "          'init': 1,\n",
      "          'isfree': True,\n",
      "          'name': 'tage',\n",
      "          'prior': <class 'prospect.models.priors.TopHat'>(mini=0.001,maxi=13.8),\n",
      "          'units': 'Gyr'},\n",
      " 'tau': {'N': 1,\n",
      "         'init': 1,\n",
      "         'isfree': True,\n",
      "         'name': 'tau',\n",
      "         'prior': <class 'prospect.models.priors.LogUniform'>(mini=0.1,maxi=30),\n",
      "         'units': 'Gyr^{-1}'},\n",
      " 'zred': {'N': 1,\n",
      "          'init': 0.000551,\n",
      "          'isfree': False,\n",
      "          'name': 'zred',\n",
      "          'prior': <class 'prospect.models.priors.TopHat'>(mini=0.0,maxi=4.0),\n",
      "          'units': 'redshift'}}\n",
      "\n",
      "\n",
      "\n",
      "#===============#\n",
      "#   New model   #\n",
      "#===============#\n",
      "\n",
      "{'add_dust_emission': {'N': 1,\n",
      "                       'init': True,\n",
      "                       'isfree': False,\n",
      "                       'name': 'add_dust_emission'},\n",
      " 'dust2': {'N': 1,\n",
      "           'init': 0.05,\n",
      "           'isfree': True,\n",
      "           'name': 'dust2',\n",
      "           'prior': <class 'prospect.models.priors.TopHat'>(mini=0.0,maxi=2.0),\n",
      "           'units': 'optical depth at 5500AA'},\n",
      " 'dust_type': {'N': 1, 'init': 0, 'isfree': False, 'name': 'dust_type'},\n",
      " 'duste_gamma': {'N': 1,\n",
      "                 'init': 0.001,\n",
      "                 'isfree': False,\n",
      "                 'name': 'duste_gamma',\n",
      "                 'prior': <class 'prospect.models.priors.LogUniform'>(mini=0.001,maxi=0.15),\n",
      "                 'units': 'Mass fraction of dust in high radiation intensity.'},\n",
      " 'duste_qpah': {'N': 1,\n",
      "                'init': 4.0,\n",
      "                'isfree': False,\n",
      "                'name': 'duste_qpah',\n",
      "                'prior': <class 'prospect.models.priors.TopHat'>(mini=0.5,maxi=7.0),\n",
      "                'units': 'Percent mass fraction of PAHs in dust.'},\n",
      " 'duste_umin': {'N': 1,\n",
      "                'init': 1.0,\n",
      "                'isfree': False,\n",
      "                'name': 'duste_umin',\n",
      "                'prior': <class 'prospect.models.priors.TopHat'>(mini=0.1,maxi=25),\n",
      "                'units': 'MMP83 local MW intensity'},\n",
      " 'imf_type': {'N': 1, 'init': 2, 'isfree': False, 'name': 'imf_type'},\n",
      " 'logzsol': {'N': 1,\n",
      "             'init': -0.5,\n",
      "             'isfree': True,\n",
      "             'name': 'logzsol',\n",
      "             'prior': <class 'prospect.models.priors.TopHat'>(mini=-2,maxi=0.19),\n",
      "             'units': '$\\\\log (Z/Z_\\\\odot)$'},\n",
      " 'mass': {'N': 1,\n",
      "          'disp_floor': 1000000.0,\n",
      "          'init': 100000000.0,\n",
      "          'init_disp': 1000000.0,\n",
      "          'isfree': True,\n",
      "          'name': 'mass',\n",
      "          'prior': <class 'prospect.models.priors.LogUniform'>(mini=1000000.0,maxi=10000000000.0),\n",
      "          'units': 'Solar masses formed'},\n",
      " 'sfh': {'N': 1,\n",
      "         'init': 4,\n",
      "         'isfree': False,\n",
      "         'name': 'sfh',\n",
      "         'units': 'FSPS index'},\n",
      " 'tage': {'N': 1,\n",
      "          'disp_floor': 1.0,\n",
      "          'init': 13.0,\n",
      "          'isfree': True,\n",
      "          'name': 'tage',\n",
      "          'prior': <class 'prospect.models.priors.TopHat'>(mini=0.001,maxi=13.8),\n",
      "          'units': 'Gyr'},\n",
      " 'tau': {'N': 1,\n",
      "         'disp_floor': 1.0,\n",
      "         'init': 1,\n",
      "         'isfree': True,\n",
      "         'name': 'tau',\n",
      "         'prior': <class 'prospect.models.priors.LogUniform'>(mini=0.1,maxi=100.0),\n",
      "         'units': 'Gyr^{-1}'},\n",
      " 'zred': {'N': 1,\n",
      "          'init': 0.000551,\n",
      "          'isfree': False,\n",
      "          'name': 'zred',\n",
      "          'prior': <class 'prospect.models.priors.TopHat'>(mini=0.0,maxi=4.0),\n",
      "          'units': 'redshift'}}\n"
     ]
    },
    {
     "name": "stderr",
     "output_type": "stream",
     "text": [
      "/Users/mart1/anaconda3/lib/python3.7/site-packages/pykcorr-0.2.1-py3.7.egg/pyprosp/prospector.py:412: UserWarning: 'disp_floor' is not included in 'tage' model parameters. Adding it...\n",
      "/Users/mart1/anaconda3/lib/python3.7/site-packages/pykcorr-0.2.1-py3.7.egg/pyprosp/prospector.py:412: UserWarning: 'init_disp' is not included in 'mass' model parameters. Adding it...\n",
      "/Users/mart1/anaconda3/lib/python3.7/site-packages/pykcorr-0.2.1-py3.7.egg/pyprosp/prospector.py:412: UserWarning: 'disp_floor' is not included in 'mass' model parameters. Adding it...\n",
      "/Users/mart1/anaconda3/lib/python3.7/site-packages/pykcorr-0.2.1-py3.7.egg/pyprosp/prospector.py:412: UserWarning: 'disp_floor' is not included in 'tau' model parameters. Adding it...\n",
      "/Users/mart1/anaconda3/lib/python3.7/site-packages/pykcorr-0.2.1-py3.7.egg/pyprosp/prospector.py:452: UserWarning: Cannot remove 'not_existing_parameter' as it doesn't exist in the current model.\n"
     ]
    }
   ],
   "source": [
    "changes = {\"dust2\":{\"init\":0.05}, \n",
    "           \"tage\":{\"init\":13., \"disp_floor\":1.},\n",
    "           \"mass\":{\"init\":1e8, \"prior\":{\"name\":\"LogUniform\", \"mini\":1e6, \"maxi\":1e10}, \n",
    "                   \"init_disp\": 1e6, \"disp_floor\":1e6},\n",
    "           \"tau\":{\"prior\":{\"name\":\"LogUniform\", \"mini\":1e-1, \"maxi\":1e2}, \"disp_floor\":1.}, \n",
    "           }\n",
    "\n",
    "removings = [\"mass_tuto\", \"not_existing_parameter\"]\n",
    "# Note that we add in the list of removings a parameter which doesn't exist in the model, \n",
    "# but the code just inform you that it already doesn't exist by a warning \n",
    "# (which can even be not printed if 'warnings = False').\n",
    "\n",
    "prosp.modify_model(changes=changes, removings=removings, verbose=True, warnings=True, describe=False)"
   ]
  },
  {
   "cell_type": "markdown",
   "metadata": {},
   "source": [
    "That's all for the `model`."
   ]
  },
  {
   "cell_type": "markdown",
   "metadata": {},
   "source": [
    "### Build `sps`"
   ]
  },
  {
   "cell_type": "markdown",
   "metadata": {},
   "source": [
    "Last step of the `prospector` initialization is to build the `sps`. As we said above, to be automatically built, `build_sps` has to be executed after `build_model`, because the `sps` depends on the `model` parameters.\n",
    "\n",
    "This method accepts two arguments:\n",
    "- `sps`: if you already have a built `sps`, you can give it here.\n",
    "- `zcontinuous`: this is a `python-fsps` parameter controlling how metallicity interpolation of the SSPs is acheived (a value of 1 is recommended):\n",
    "    - 0: use discrete indices (controlled by parameter \"zmet\")\n",
    "    - 1: linearly interpolate in log Z/Z_\\sun to the target metallicity (the parameter \"logzsol\")\n",
    "    - 2: convolve with a metallicity distribution function at each age (the MDF is controlled by the parameter \"pmetals\")\n",
    "\n",
    "*Note: this can take a bit of time the first time you build it, but will be much faster as long as you don't restart the kernel.*"
   ]
  },
  {
   "cell_type": "code",
   "execution_count": 12,
   "metadata": {},
   "outputs": [],
   "source": [
    "prosp.build_sps(zcontinuous=1)"
   ]
  },
  {
   "cell_type": "markdown",
   "metadata": {},
   "source": [
    "The `prospector` initialization is now done. Let's run the SED fitting."
   ]
  },
  {
   "cell_type": "markdown",
   "metadata": {},
   "source": [
    "### SED fitting"
   ]
  },
  {
   "cell_type": "code",
   "execution_count": null,
   "metadata": {},
   "outputs": [],
   "source": []
  },
  {
   "cell_type": "code",
   "execution_count": 13,
   "metadata": {},
   "outputs": [
    {
     "name": "stdout",
     "output_type": "stream",
     "text": [
      "\n",
      "#====================================#\n",
      "#   Running parameters description   #\n",
      "#====================================#\n",
      "\n",
      "\n",
      "+-------------+\n",
      "|   dynesty   |\n",
      "+-------------+\n",
      "\n",
      "    nested_bound: (optional, default: 'multi')\n",
      "\n",
      "    nested_sample: (optional, default: 'unif')\n",
      "\n",
      "    nested_nlive_init: (optional, default: 100)\n",
      "\n",
      "    nested_nlive_batch: (optional, default: 100)\n",
      "\n",
      "    nested_dlogz_init: (optional, default: 0.02)\n",
      "\n",
      "    nested_maxcall: (optional, default: None)\n",
      "\n",
      "    nested_walks: (optional, default: 25)\n",
      "\n",
      "    \n",
      "    There are more informations on these parameters at:\n",
      "        https://dynesty.readthedocs.io/en/latest/api.html#dynesty.dynesty.DynamicNestedSampler\n",
      "\n"
     ]
    }
   ],
   "source": [
    "prosp.describe_run_parameters(\"dynesty\")"
   ]
  }
 ],
 "metadata": {
  "kernelspec": {
   "display_name": "Python 3",
   "language": "python",
   "name": "python3"
  },
  "language_info": {
   "codemirror_mode": {
    "name": "ipython",
    "version": 3
   },
   "file_extension": ".py",
   "mimetype": "text/x-python",
   "name": "python",
   "nbconvert_exporter": "python",
   "pygments_lexer": "ipython3",
   "version": "3.7.9"
  }
 },
 "nbformat": 4,
 "nbformat_minor": 4
}
